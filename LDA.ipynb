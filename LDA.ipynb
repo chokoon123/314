{
 "cells": [
  {
   "cell_type": "code",
   "execution_count": 10,
   "metadata": {},
   "outputs": [],
   "source": [
    "import lda\n",
    "from main import get"
   ]
  },
  {
   "cell_type": "code",
   "execution_count": 11,
   "metadata": {},
   "outputs": [
    {
     "name": "stdout",
     "output_type": "stream",
     "text": [
      "AB600\n",
      "AB600\n",
      "AB680\n",
      "AB701\n",
      "AB780\n",
      "AB802\n",
      "AB900\n",
      "AC201\n",
      "AC201\n",
      "AC201\n",
      "AC201\n",
      "AC201\n",
      "AC201\n",
      "AC201\n",
      "AC201\n",
      "AC201\n",
      "AC201\n",
      "AC201\n",
      "AC201\n",
      "AC201\n",
      "AC201\n",
      "AC201\n",
      "AC201\n",
      "AC201\n",
      "AC201\n",
      "AC201\n",
      "AC201\n",
      "AC201\n",
      "AC201\n",
      "DONE  DONE  DONE  DONE  DONE  DONE  DONE  DONE  DONE  DONE  \n"
     ]
    }
   ],
   "source": [
    "data = get()"
   ]
  },
  {
   "cell_type": "code",
   "execution_count": 13,
   "metadata": {},
   "outputs": [
    {
     "data": {
      "text/html": [
       "<div>\n",
       "<style scoped>\n",
       "    .dataframe tbody tr th:only-of-type {\n",
       "        vertical-align: middle;\n",
       "    }\n",
       "\n",
       "    .dataframe tbody tr th {\n",
       "        vertical-align: top;\n",
       "    }\n",
       "\n",
       "    .dataframe thead th {\n",
       "        text-align: right;\n",
       "    }\n",
       "</style>\n",
       "<table border=\"1\" class=\"dataframe\">\n",
       "  <thead>\n",
       "    <tr style=\"text-align: right;\">\n",
       "      <th></th>\n",
       "      <th>subject</th>\n",
       "      <th>dis</th>\n",
       "    </tr>\n",
       "  </thead>\n",
       "  <tbody>\n",
       "    <tr>\n",
       "      <th>0</th>\n",
       "      <td>[[&lt;selenium.webdriver.remote.webelement.WebEle...</td>\n",
       "      <td>NaN</td>\n",
       "    </tr>\n",
       "    <tr>\n",
       "      <th>1</th>\n",
       "      <td>NaN</td>\n",
       "      <td>[[&lt;selenium.webdriver.remote.webelement.WebEle...</td>\n",
       "    </tr>\n",
       "  </tbody>\n",
       "</table>\n",
       "</div>"
      ],
      "text/plain": [
       "                                             subject                                                dis\n",
       "0  [[<selenium.webdriver.remote.webelement.WebEle...                                                NaN\n",
       "1                                                NaN  [[<selenium.webdriver.remote.webelement.WebEle..."
      ]
     },
     "execution_count": 13,
     "metadata": {},
     "output_type": "execute_result"
    }
   ],
   "source": [
    "data.head()"
   ]
  },
  {
   "cell_type": "code",
   "execution_count": 9,
   "metadata": {},
   "outputs": [],
   "source": [
    "import pandas as pd\n",
    "import gensim\n",
    "from gensim import corpora\n",
    "from nltk.corpus import stopwords\n",
    "from nltk.tokenize import word_tokenize\n",
    "import nltk"
   ]
  },
  {
   "cell_type": "code",
   "execution_count": 10,
   "metadata": {},
   "outputs": [
    {
     "name": "stderr",
     "output_type": "stream",
     "text": [
      "[nltk_data] Downloading package punkt to\n",
      "[nltk_data]     C:\\Users\\LENOVO\\AppData\\Roaming\\nltk_data...\n",
      "[nltk_data]   Package punkt is already up-to-date!\n",
      "[nltk_data] Downloading package stopwords to\n",
      "[nltk_data]     C:\\Users\\LENOVO\\AppData\\Roaming\\nltk_data...\n",
      "[nltk_data]   Unzipping corpora\\stopwords.zip.\n"
     ]
    }
   ],
   "source": [
    "nltk.download('punkt')\n",
    "nltk.download('stopwords')\n",
    "stop_words = set(stopwords.words('english'))\n",
    "df = pd.DataFrame(,columns=[\"subject\",\"dis\"])"
   ]
  },
  {
   "cell_type": "code",
   "execution_count": null,
   "metadata": {},
   "outputs": [],
   "source": [
    "def preprocessing(text):\n",
    "    tokens = word_tokenize(text.lower()) \n",
    "    filter_token_listcom = [word for word in token if word.isalpha() and word not in stop_words]\n",
    "    return filter_token_listcom\n",
    "\n",
    "df[\"token\"] = df[\"course\"].apply(preprocessing)\n",
    "\n",
    "dic = corpora.Dictionary(df[\"token\"])\n",
    "corpus = [dictionary.doc2bow(text) for text in df['processed_text']]"
   ]
  },
  {
   "cell_type": "code",
   "execution_count": null,
   "metadata": {},
   "outputs": [],
   "source": [
    "lda = gensin.models.LdaModel(corpus .num_topics=3, id2word=dictionary, passes=10)\n",
    "topics = lda_model.print_topics(num_words=5)\n",
    "for topic in topics:\n",
    "    print(topic)\n",
    "\n",
    "df['topics'] = [lda_model.get_document_topics(bow) for bow in corpus]\n"
   ]
  },
  {
   "cell_type": "code",
   "execution_count": null,
   "metadata": {},
   "outputs": [],
   "source": [
    "print(df[['course', 'topics']])"
   ]
  }
 ],
 "metadata": {
  "language_info": {
   "name": "python"
  }
 },
 "nbformat": 4,
 "nbformat_minor": 2
}
