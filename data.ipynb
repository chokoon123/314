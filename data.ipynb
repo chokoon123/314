{
 "cells": [
  {
   "cell_type": "code",
   "execution_count": 1,
   "metadata": {},
   "outputs": [],
   "source": [
    "from sentence_transformers import SentenceTransformer\n",
    "import numpy as np\n",
    "from sklearn.metrics.pairwise import cosine_similarity\n",
    "import pickle\n",
    "import pandas as pd\n",
    "import requests\n",
    "from io import StringIO\n",
    "import re\n",
    "from transformers import AutoTokenizer, AutoModel\n",
    "from sentence_transformers import SentenceTransformer\n",
    "from sklearn.cluster import KMeans\n",
    "from sklearn.decomposition import PCA \n",
    "import umap.umap_ as umap\n",
    "import matplotlib.pyplot as plt\n",
    "import hdbscan\n",
    "pd.set_option('display.max_colwidth', None)"
   ]
  },
  {
   "cell_type": "code",
   "execution_count": 2,
   "metadata": {},
   "outputs": [],
   "source": [
    "sheet_name_lsit = ['Sci/2', 'Sci_Extra/1', 'Sci/1', 'Sci_Extra/2', 'Engineering/1', 'Engineering_Extra/1', 'Engineering/2', 'Engineering_Extra/2', 'SIIT/2', 'SIIT/1', 'Innovation_Extra/1', 'Innovation_Extra/2', 'CIS_Extra/1', 'CIS/1', 'CIS_Extra/2', 'CIS/2']"
   ]
  },
  {
   "cell_type": "code",
   "execution_count": 3,
   "metadata": {},
   "outputs": [
    {
     "name": "stdout",
     "output_type": "stream",
     "text": [
      "(4272, 6)\n",
      "(4272, 6)\n"
     ]
    }
   ],
   "source": [
    "sheet_id = \"1ExtEUwVLi5Y_mmqxNd0oX7WrWzj8n6TeBLcQg7Xu0GU\"\n",
    "dataframe = pd.DataFrame(columns=[\"code\", \"desc\", \"add1\", \"add2\", \"add3\",\"ma\"])\n",
    "\n",
    "for sheet_name in sheet_name_lsit:\n",
    "    url = f\"https://docs.google.com/spreadsheets/d/{sheet_id}/gviz/tq?tqx=out:csv&sheet={sheet_name}\"\n",
    "    response = requests.get(url)\n",
    "    decoded_content = response.content.decode('utf-8')\n",
    "    data_tem =  pd.read_csv(StringIO(decoded_content))\n",
    "    dataframe = pd.concat([dataframe, data_tem], ignore_index=True)\n",
    "\n",
    "print(dataframe.shape)\n",
    "for i in dataframe.columns:\n",
    "    dataframe[f\"{i}\"] = dataframe[f\"{i}\"].str.strip().str.lower()\n",
    "\n",
    "\n",
    "print(dataframe.shape)"
   ]
  },
  {
   "cell_type": "code",
   "execution_count": 4,
   "metadata": {},
   "outputs": [],
   "source": [
    "dataframe[\"desc\"] = dataframe[\"desc\"].str.replace(r\"[.,]\", \"\", regex=True).str.strip()\n",
    "\n",
    "dataframe.drop_duplicates(subset=[\"code\"],inplace=True)\n",
    "dataframe.dropna(subset=[\"desc\",\"code\"],inplace=True)\n",
    "\n",
    "# df = dataframe[dataframe.duplicated(subset=[\"desc\"], keep=False)]\n",
    "# print(df.desc.head(3))\n",
    "# print(df.shape)\n",
    "# dataframe.drop_duplicates(subset=[\"desc\"], keep=False,inplace=True)\n",
    "\n",
    "# df[\"code\"] = df.groupby(\"desc\")[\"code\"].transform(lambda x: \", \".join(x))\n",
    "# df = df.drop_duplicates(subset=\"desc\")\n",
    "# print(df.shape)\n",
    "# dataframe = pd.concat([df,dataframe])"
   ]
  },
  {
   "cell_type": "code",
   "execution_count": 5,
   "metadata": {},
   "outputs": [],
   "source": [
    "dataframe[\"add1\"] = dataframe[\"add1\"].str.replace(\"คพ\",\"cs\")\n",
    "dataframe[\"add1\"] = dataframe[\"add1\"].str.replace(\"ทก\",\"at\")\n",
    "dataframe[\"add1\"] = dataframe[\"add1\"].str.replace(\"คป\",\"am\")\n",
    "dataframe[\"add1\"] = dataframe[\"add1\"].str.replace(\"ทช\",\"bt\")\n",
    "dataframe[\"add1\"] = dataframe[\"add1\"].str.replace(\"วท\",\"sc\")\n",
    "dataframe[\"add1\"] = dataframe[\"add1\"].str.replace(\"คม\",\"cm\")\n",
    "dataframe[\"add1\"] = dataframe[\"add1\"].str.replace(\"ค\",\"ma\")\n",
    "dataframe[\"add1\"] = dataframe[\"add1\"].str.replace(\"ส\",\"st\")\n",
    "\n",
    "dataframe[\"add2\"] = dataframe[\"add2\"].str.replace(\"คพ\",\"cs\")\n",
    "dataframe[\"add2\"] = dataframe[\"add2\"].str.replace(\"ทก\",\"at\")\n",
    "dataframe[\"add2\"] = dataframe[\"add2\"].str.replace(\"คป\",\"am\")\n",
    "dataframe[\"add2\"] = dataframe[\"add2\"].str.replace(\"ทช\",\"bt\")\n",
    "dataframe[\"add2\"] = dataframe[\"add2\"].str.replace(\"วท\",\"sc\")\n",
    "dataframe[\"add2\"] = dataframe[\"add2\"].str.replace(\"คม\",\"cm\")\n",
    "dataframe[\"add2\"] = dataframe[\"add2\"].str.replace(\"ค\",\"ma\")\n",
    "dataframe[\"add2\"] = dataframe[\"add2\"].str.replace(\"ส\",\"st\")\n"
   ]
  },
  {
   "cell_type": "code",
   "execution_count": 6,
   "metadata": {},
   "outputs": [],
   "source": [
    "def extract_courses(row):\n",
    "    pattern = r\"[A-Za-zก-ฮ]{1,2}\\.? ?\\d{3}\"\n",
    "    listt = []\n",
    "    if isinstance(row, str):\n",
    "        matches = re.findall(pattern, row)  \n",
    "        listt.extend(matches)\n",
    "        return listt\n",
    "    return None \n",
    "\n",
    "dataframe[\"cancel_course\"] = dataframe[\"add1\"].apply(extract_courses) + dataframe[\"add2\"].apply(extract_courses)"
   ]
  },
  {
   "cell_type": "code",
   "execution_count": 7,
   "metadata": {},
   "outputs": [],
   "source": [
    "dataframe.drop(\"add3\",inplace=True,axis=1)"
   ]
  },
  {
   "cell_type": "code",
   "execution_count": 10,
   "metadata": {},
   "outputs": [],
   "source": [
    "dataframe.to_csv(\"data1.csv\")"
   ]
  },
  {
   "cell_type": "code",
   "execution_count": 9,
   "metadata": {},
   "outputs": [],
   "source": [
    "dataframe.rename(columns={\n",
    "    \"desc\":\"description\",\n",
    "    \"add1\":\"disciplinary course(s)\",\n",
    "    \"add2\":\"consecutive course(s)\",\n",
    "    \"ma\":\"faculty\"\n",
    "    \n",
    "},inplace=True)"
   ]
  }
 ],
 "metadata": {
  "language_info": {
   "name": "python"
  }
 },
 "nbformat": 4,
 "nbformat_minor": 2
}
