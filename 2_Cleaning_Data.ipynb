{
 "cells": [
  {
   "cell_type": "markdown",
   "metadata": {},
   "source": [
    "### Import Libraries"
   ]
  },
  {
   "cell_type": "code",
   "execution_count": 1,
   "metadata": {},
   "outputs": [],
   "source": [
    "from sentence_transformers import SentenceTransformer\n",
    "import numpy as np\n",
    "from sklearn.metrics.pairwise import cosine_similarity\n",
    "import pickle\n",
    "import pandas as pd\n",
    "import requests\n",
    "from io import StringIO\n",
    "import re\n",
    "from transformers import AutoTokenizer, AutoModel\n",
    "from sentence_transformers import SentenceTransformer\n",
    "from sklearn.cluster import KMeans\n",
    "from sklearn.decomposition import PCA \n",
    "import umap.umap_ as umap\n",
    "import matplotlib.pyplot as plt\n",
    "import hdbscan\n",
    "pd.set_option('display.max_colwidth', None)"
   ]
  },
  {
   "cell_type": "markdown",
   "metadata": {},
   "source": [
    "### Cleaning Process"
   ]
  },
  {
   "cell_type": "code",
   "execution_count": 2,
   "metadata": {},
   "outputs": [],
   "source": [
    "sheet_name_lsit = ['Sci/2', 'Sci_Extra/1', 'Sci/1', 'Sci_Extra/2', 'Engineering/1', 'Engineering_Extra/1', 'Engineering/2', 'Engineering_Extra/2', 'SIIT/2', 'SIIT/1', 'Innovation_Extra/1', 'Innovation_Extra/2', 'CIS_Extra/1', 'CIS/1', 'CIS_Extra/2', 'CIS/2']"
   ]
  },
  {
   "cell_type": "code",
   "execution_count": 3,
   "metadata": {},
   "outputs": [
    {
     "name": "stdout",
     "output_type": "stream",
     "text": [
      "(4272, 6)\n",
      "(4272, 6)\n"
     ]
    }
   ],
   "source": [
    "# Get all data from google sheet to  a DataFrame\n",
    "sheet_id = \"1ExtEUwVLi5Y_mmqxNd0oX7WrWzj8n6TeBLcQg7Xu0GU\"\n",
    "dataframe = pd.DataFrame(columns=[\"code\", \"desc\", \"add1\", \"add2\", \"add3\",\"ma\"])\n",
    "\n",
    "for sheet_name in sheet_name_lsit:\n",
    "    url = f\"https://docs.google.com/spreadsheets/d/{sheet_id}/gviz/tq?tqx=out:csv&sheet={sheet_name}\"\n",
    "    response = requests.get(url)\n",
    "    decoded_content = response.content.decode('utf-8')\n",
    "    data_tem =  pd.read_csv(StringIO(decoded_content))\n",
    "    dataframe = pd.concat([dataframe, data_tem], ignore_index=True)\n",
    "\n",
    "# Strip the unnecessary character and make all string to lowercase to prevent case sensitive\n",
    "print(dataframe.shape)\n",
    "for i in dataframe.columns:\n",
    "    dataframe[f\"{i}\"] = dataframe[f\"{i}\"].str.strip().str.lower()\n",
    "\n",
    "print(dataframe.shape)"
   ]
  },
  {
   "cell_type": "markdown",
   "metadata": {},
   "source": [
    "Columns are renamed to more descriptive labels"
   ]
  },
  {
   "cell_type": "code",
   "execution_count": 6,
   "metadata": {},
   "outputs": [],
   "source": [
    "dataframe.head()\n",
    "dataframe.rename(columns={\n",
    "    \"desc\":\"description\",\n",
    "    \"add1\":\"disciplinary course(s)\",\n",
    "    \"add2\":\"consecutive course(s)\",\n",
    "    \"ma\":\"faculty\"\n",
    "},inplace=True)\n",
    "dataframe.drop(columns=[\"add3\"],inplace=True)"
   ]
  },
  {
   "cell_type": "markdown",
   "metadata": {},
   "source": [
    "Use regex pattern to removes punctuation (. and ,) and trims extra whitespace from the 'description' column"
   ]
  },
  {
   "cell_type": "markdown",
   "metadata": {},
   "source": [
    " Drop duplicates and none"
   ]
  },
  {
   "cell_type": "code",
   "execution_count": 7,
   "metadata": {},
   "outputs": [],
   "source": [
    "\n",
    "dataframe[\"description\"] = dataframe[\"description\"].str.replace(r\"[.,]\", \"\", regex=True).str.strip()\n",
    "dataframe.drop_duplicates(subset=[\"code\"],inplace=True)\n",
    "dataframe.dropna(subset=[\"description\",\"code\"],inplace=True)\n"
   ]
  },
  {
   "cell_type": "markdown",
   "metadata": {},
   "source": [
    "Standardize the course codes that in Thai to English in both 'displinary course(s)' and 'consecutive course(s)' columns"
   ]
  },
  {
   "cell_type": "code",
   "execution_count": 8,
   "metadata": {},
   "outputs": [],
   "source": [
    "dataframe[\"disciplinary course(s)\"] = dataframe[\"disciplinary course(s)\"].str.replace(\"คพ.\",\"cs\")\n",
    "dataframe[\"disciplinary course(s)\"] = dataframe[\"disciplinary course(s)\"].str.replace(\"คพ\",\"cs\")\n",
    "\n",
    "dataframe[\"disciplinary course(s)\"] = dataframe[\"disciplinary course(s)\"].str.replace(\"ทก.\",\"at\")\n",
    "dataframe[\"disciplinary course(s)\"] = dataframe[\"disciplinary course(s)\"].str.replace(\"ทก\",\"at\")\n",
    "\n",
    "\n",
    "dataframe[\"disciplinary course(s)\"] = dataframe[\"disciplinary course(s)\"].str.replace(\"คป.\",\"am\")\n",
    "dataframe[\"disciplinary course(s)\"] = dataframe[\"disciplinary course(s)\"].str.replace(\"คป\",\"am\")\n",
    "\n",
    "\n",
    "dataframe[\"disciplinary course(s)\"] = dataframe[\"disciplinary course(s)\"].str.replace(\"ทช.\",\"bt\")\n",
    "dataframe[\"disciplinary course(s)\"] = dataframe[\"disciplinary course(s)\"].str.replace(\"ทช\",\"bt\")\n",
    "\n",
    "\n",
    "dataframe[\"disciplinary course(s)\"] = dataframe[\"disciplinary course(s)\"].str.replace(\"วท.\",\"sc\")\n",
    "dataframe[\"disciplinary course(s)\"] = dataframe[\"disciplinary course(s)\"].str.replace(\"วท\",\"sc\")\n",
    "\n",
    "\n",
    "dataframe[\"disciplinary course(s)\"] = dataframe[\"disciplinary course(s)\"].str.replace(\"คม.\",\"cm\")\n",
    "dataframe[\"disciplinary course(s)\"] = dataframe[\"disciplinary course(s)\"].str.replace(\"คม\",\"cm\")\n",
    "\n",
    "\n",
    "dataframe[\"disciplinary course(s)\"] = dataframe[\"disciplinary course(s)\"].str.replace(\"ค.\",\"ma\")\n",
    "dataframe[\"disciplinary course(s)\"] = dataframe[\"disciplinary course(s)\"].str.replace(\"ค\",\"ma\")\n",
    "\n",
    "dataframe[\"disciplinary course(s)\"] = dataframe[\"disciplinary course(s)\"].str.replace(\"ส.\",\"st\")\n",
    "dataframe[\"disciplinary course(s)\"] = dataframe[\"disciplinary course(s)\"].str.replace(\"ส\",\"st\")\n",
    "\n",
    "\n"
   ]
  },
  {
   "cell_type": "code",
   "execution_count": 9,
   "metadata": {},
   "outputs": [],
   "source": [
    "dataframe[\"consecutive course(s)\"] = dataframe[\"consecutive course(s)\"].str.replace(\"คพ.\",\"cs\")\n",
    "dataframe[\"consecutive course(s)\"] = dataframe[\"consecutive course(s)\"].str.replace(\"คพ\",\"cs\")\n",
    "\n",
    "dataframe[\"consecutive course(s)\"] = dataframe[\"consecutive course(s)\"].str.replace(\"ทก.\",\"at\")\n",
    "dataframe[\"consecutive course(s)\"] = dataframe[\"consecutive course(s)\"].str.replace(\"ทก\",\"at\")\n",
    "\n",
    "\n",
    "dataframe[\"consecutive course(s)\"] = dataframe[\"consecutive course(s)\"].str.replace(\"คป.\",\"am\")\n",
    "dataframe[\"consecutive course(s)\"] = dataframe[\"consecutive course(s)\"].str.replace(\"คป\",\"am\")\n",
    "\n",
    "\n",
    "dataframe[\"consecutive course(s)\"] = dataframe[\"consecutive course(s)\"].str.replace(\"ทช.\",\"bt\")\n",
    "dataframe[\"consecutive course(s)\"] = dataframe[\"consecutive course(s)\"].str.replace(\"ทช\",\"bt\")\n",
    "\n",
    "\n",
    "dataframe[\"consecutive course(s)\"] = dataframe[\"consecutive course(s)\"].str.replace(\"วท.\",\"sc\")\n",
    "dataframe[\"consecutive course(s)\"] = dataframe[\"consecutive course(s)\"].str.replace(\"วท\",\"sc\")\n",
    "\n",
    "\n",
    "dataframe[\"consecutive course(s)\"] = dataframe[\"consecutive course(s)\"].str.replace(\"คม.\",\"cm\")\n",
    "dataframe[\"consecutive course(s)\"] = dataframe[\"consecutive course(s)\"].str.replace(\"คม\",\"cm\")\n",
    "\n",
    "\n",
    "dataframe[\"consecutive course(s)\"] = dataframe[\"consecutive course(s)\"].str.replace(\"ค.\",\"ma\")\n",
    "dataframe[\"consecutive course(s)\"] = dataframe[\"consecutive course(s)\"].str.replace(\"ค\",\"ma\")\n",
    "\n",
    "dataframe[\"consecutive course(s)\"] = dataframe[\"consecutive course(s)\"].str.replace(\"ส.\",\"st\")\n",
    "dataframe[\"consecutive course(s)\"] = dataframe[\"consecutive course(s)\"].str.replace(\"ส\",\"st\")\n",
    "\n",
    "\n"
   ]
  },
  {
   "cell_type": "markdown",
   "metadata": {},
   "source": [
    "Create a function for extract the course codes from 'displinary course(s)' and 'consecutive course(s)' columns by using regex pattern and store them in 'cancel_course' column"
   ]
  },
  {
   "cell_type": "code",
   "execution_count": null,
   "metadata": {},
   "outputs": [],
   "source": [
    "def extract_courses(row):\n",
    "    pattern = r\"[A-Za-zก-ฮ]{1,2}\\.? ?\\d{3}\"\n",
    "    listt = []\n",
    "    if isinstance(row, str):\n",
    "        matches = re.findall(pattern, row)  \n",
    "        listt.extend(matches)\n",
    "        return listt\n",
    "    return None \n",
    "\n",
    "dataframe[\"cancel_course\"] = dataframe[\"disciplinary course(s)\"].apply(extract_courses) + dataframe[\"consecutive course(s)\"].apply(extract_courses)\n",
    "dataframe.head()"
   ]
  },
  {
   "cell_type": "markdown",
   "metadata": {},
   "source": [
    "Dropping Unnecessary Columns"
   ]
  },
  {
   "cell_type": "code",
   "execution_count": null,
   "metadata": {},
   "outputs": [],
   "source": [
    "dataframe.drop(\"add3\",inplace=True,axis=1)"
   ]
  },
  {
   "cell_type": "markdown",
   "metadata": {},
   "source": [
    "Save DataFrame to dataset.csv"
   ]
  },
  {
   "cell_type": "code",
   "execution_count": 10,
   "metadata": {},
   "outputs": [],
   "source": [
    "#upload data\n",
    "dataframe.to_csv(\"dataset.csv\")"
   ]
  }
 ],
 "metadata": {
  "language_info": {
   "name": "python"
  }
 },
 "nbformat": 4,
 "nbformat_minor": 2
}
