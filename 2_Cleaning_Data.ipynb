{
 "cells": [
  {
   "cell_type": "code",
   "execution_count": 1,
   "metadata": {},
   "outputs": [],
   "source": [
    "from sentence_transformers import SentenceTransformer\n",
    "import numpy as np\n",
    "from sklearn.metrics.pairwise import cosine_similarity\n",
    "import pickle\n",
    "import pandas as pd\n",
    "import requests\n",
    "from io import StringIO\n",
    "import re\n",
    "from transformers import AutoTokenizer, AutoModel\n",
    "from sentence_transformers import SentenceTransformer\n",
    "from sklearn.cluster import KMeans\n",
    "from sklearn.decomposition import PCA \n",
    "import umap.umap_ as umap\n",
    "import matplotlib.pyplot as plt\n",
    "import hdbscan\n",
    "pd.set_option('display.max_colwidth', None)"
   ]
  },
  {
   "cell_type": "code",
   "execution_count": 2,
   "metadata": {},
   "outputs": [],
   "source": [
    "sheet_name_lsit = ['Sci/2', 'Sci_Extra/1', 'Sci/1', 'Sci_Extra/2', 'Engineering/1', 'Engineering_Extra/1', 'Engineering/2', 'Engineering_Extra/2', 'SIIT/2', 'SIIT/1', 'Innovation_Extra/1', 'Innovation_Extra/2', 'CIS_Extra/1', 'CIS/1', 'CIS_Extra/2', 'CIS/2']"
   ]
  },
  {
   "cell_type": "code",
   "execution_count": 3,
   "metadata": {},
   "outputs": [
    {
     "name": "stdout",
     "output_type": "stream",
     "text": [
      "(4272, 6)\n",
      "(4272, 6)\n"
     ]
    }
   ],
   "source": [
    "sheet_id = \"1ExtEUwVLi5Y_mmqxNd0oX7WrWzj8n6TeBLcQg7Xu0GU\"\n",
    "dataframe = pd.DataFrame(columns=[\"code\", \"description\", \"disciplinary course(s)\", \"consecutive course(s)\", \"add3\",\"faculty\"])\n",
    "\n",
    "for sheet_name in sheet_name_lsit:\n",
    "    url = f\"https://docs.google.com/spreadsheets/d/{sheet_id}/gviz/tq?tqx=out:csv&sheet={sheet_name}\"\n",
    "    response = requests.get(url)\n",
    "    decoded_content = response.content.decode('utf-8')\n",
    "    data_tem =  pd.read_csv(StringIO(decoded_content))\n",
    "    dataframe = pd.concat([dataframe, data_tem], ignore_index=True)\n",
    "\n",
    "print(dataframe.shape)\n",
    "for i in dataframe.columns:\n",
    "    dataframe[f\"{i}\"] = dataframe[f\"{i}\"].str.strip().str.lower()\n",
    "\n",
    "\n",
    "print(dataframe.shape)"
   ]
  },
  {
   "cell_type": "code",
   "execution_count": 4,
   "metadata": {},
   "outputs": [],
   "source": [
    "dataframe[\"description\"] = dataframe[\"description\"].str.replace(r\"[.,]\", \"\", regex=True).str.strip()\n",
    "\n",
    "dataframe.drop_duplicates(subset=[\"code\"],inplace=True)\n",
    "dataframe.dropna(subset=[\"description\",\"code\"],inplace=True)\n"
   ]
  },
  {
   "cell_type": "code",
   "execution_count": 5,
   "metadata": {},
   "outputs": [],
   "source": [
    "dataframe[\"disciplinary course(s)\"] = dataframe[\"disciplinary course(s)\"].str.replace(\"คพ\",\"cs\")\n",
    "dataframe[\"disciplinary course(s)\"] = dataframe[\"disciplinary course(s)\"].str.replace(\"ทก\",\"at\")\n",
    "dataframe[\"disciplinary course(s)\"] = dataframe[\"disciplinary course(s)\"].str.replace(\"คป\",\"am\")\n",
    "dataframe[\"disciplinary course(s)\"] = dataframe[\"disciplinary course(s)\"].str.replace(\"ทช\",\"bt\")\n",
    "dataframe[\"disciplinary course(s)\"] = dataframe[\"disciplinary course(s)\"].str.replace(\"วท\",\"sc\")\n",
    "dataframe[\"disciplinary course(s)\"] = dataframe[\"disciplinary course(s)\"].str.replace(\"คม\",\"cm\")\n",
    "dataframe[\"disciplinary course(s)\"] = dataframe[\"disciplinary course(s)\"].str.replace(\"ค\",\"ma\")\n",
    "dataframe[\"disciplinary course(s)\"] = dataframe[\"disciplinary course(s)\"].str.replace(\"ส\",\"st\")\n",
    "\n",
    "dataframe[\"consecutive course(s)\"] = dataframe[\"consecutive course(s)\"].str.replace(\"คพ\",\"cs\")\n",
    "dataframe[\"consecutive course(s)\"] = dataframe[\"consecutive course(s)\"].str.replace(\"ทก\",\"at\")\n",
    "dataframe[\"consecutive course(s)\"] = dataframe[\"consecutive course(s)\"].str.replace(\"คป\",\"am\")\n",
    "dataframe[\"consecutive course(s)\"] = dataframe[\"consecutive course(s)\"].str.replace(\"ทช\",\"bt\")\n",
    "dataframe[\"consecutive course(s)\"] = dataframe[\"consecutive course(s)\"].str.replace(\"วท\",\"sc\")\n",
    "dataframe[\"consecutive course(s)\"] = dataframe[\"consecutive course(s)\"].str.replace(\"คม\",\"cm\")\n",
    "dataframe[\"consecutive course(s)\"] = dataframe[\"consecutive course(s)\"].str.replace(\"ค\",\"ma\")\n",
    "dataframe[\"consecutive course(s)\"] = dataframe[\"consecutive course(s)\"].str.replace(\"ส\",\"st\")\n"
   ]
  },
  {
   "cell_type": "code",
   "execution_count": 6,
   "metadata": {},
   "outputs": [],
   "source": [
    "def extract_courses(row):\n",
    "    pattern = r\"[A-Za-zก-ฮ]{1,2}\\.? ?\\d{3}\"\n",
    "    listt = []\n",
    "    if isinstance(row, str):\n",
    "        matches = re.findall(pattern, row)  \n",
    "        listt.extend(matches)\n",
    "        return listt\n",
    "    return None \n",
    "\n",
    "dataframe[\"cancel_course\"] = dataframe[\"disciplinary course(s)\"].apply(extract_courses) + dataframe[\"consecutive course(s)\"].apply(extract_courses)"
   ]
  },
  {
   "cell_type": "code",
   "execution_count": 7,
   "metadata": {},
   "outputs": [],
   "source": [
    "dataframe.drop(\"add3\",inplace=True,axis=1)"
   ]
  },
  {
   "cell_type": "code",
   "execution_count": 10,
   "metadata": {},
   "outputs": [],
   "source": [
    "dataframe.to_csv(\"data1.csv\")"
   ]
  }
 ],
 "metadata": {
  "language_info": {
   "name": "python"
  }
 },
 "nbformat": 4,
 "nbformat_minor": 2
}
