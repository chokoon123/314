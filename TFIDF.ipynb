{
 "cells": [
  {
   "cell_type": "code",
   "execution_count": 33,
   "metadata": {},
   "outputs": [],
   "source": [
    "from sentence_transformers import SentenceTransformer\n",
    "import numpy as np\n",
    "from sklearn.metrics.pairwise import cosine_similarity\n",
    "import pickle\n",
    "import pandas as pd\n",
    "import requests\n",
    "from io import StringIO\n",
    "import re\n",
    "from transformers import AutoTokenizer, AutoModel\n",
    "import pandas as pd\n",
    "import nltk\n",
    "from nltk.corpus import stopwords\n",
    "from nltk.tokenize import word_tokenize\n",
    "\n",
    "pd.set_option('display.max_colwidth', None)"
   ]
  },
  {
   "cell_type": "code",
   "execution_count": 34,
   "metadata": {},
   "outputs": [],
   "source": [
    "sheet_name_lsit = ['Sci/2', 'Sci_Extra/1', 'Sci/1', 'Sci_Extra/2', 'Engineering/1', 'Engineering_Extra/1', 'Engineering/2', 'Engineering_Extra/2', 'SIIT/2', 'SIIT/1', 'Innovation_Extra/1', 'Innovation_Extra/2', 'CIS_Extra/1', 'CIS/1', 'CIS_Extra/2', 'CIS/2']"
   ]
  },
  {
   "cell_type": "code",
   "execution_count": 35,
   "metadata": {},
   "outputs": [
    {
     "name": "stdout",
     "output_type": "stream",
     "text": [
      "                                                                                                               desc\n",
      "0  Basics concepts in Applied Mathematics, Mathematical Modeling, Operations Research and Computational Mathematics\n",
      "1  Basics concepts in Applied Mathematics, Mathematical Modeling, Operations Research and Computational Mathematics\n",
      "2                                    Concepts in Applied Mathematics and career paths. (Study evaluation by S or U)\n",
      "                                                                                                                                                                                                                                                                                                                                                                                                                                                                                                                                desc\n",
      "0                                                                                     Limit and continuity of single variable functions, the derivative and its applications, antiderivatives and indefinite integrals, techniques of integrations, definite integrals and applications of the definite integrals in geometry and physics, improper integrals and convergence tests, infinite series and convergence tests, power series and Theorem of Taylor series, software programme for calculus of single variable functions.\n",
      "1                                                                                     Limit and continuity of single variable functions, the derivative and its applications, antiderivatives and indefinite integrals, techniques of integrations, definite integrals and applications of the definite integrals in geometry and physics, improper integrals and convergence tests, infinite series and convergence tests, power series and Theorem of Taylor series, software programme for calculus of single variable functions.\n",
      "2  Limits and continuity of single variable functions, derivatives of single variable functions and applications, antiderivatives and indefinite integrals, techniques of integrations, definite integrals and applications, improper integrals and convergence tests, infinite series and convergence tests, power series and Taylor series, software for calculus of single variable functions. Note: There is no credit for students who are currently taking or have earned credits of MA111 or MA113 or MA211 or MA216 or MA218\n",
      "                                                                                                                                                                                                                                                                                                                                                                                                                                             desc\n",
      "0  Limit and continuity of single variable functions, the derivative and its applications, antiderivatives and indefinite integrals, techniques of integrations, definite integrals and applications of the definite integrals in geometry and physics, improper integrals and convergence tests, infinite series and convergence tests, power series and Theorem of Taylor series, software programme for calculus of single variable functions.\n",
      "1  Limit and continuity of single variable functions, the derivative and its applications, antiderivatives and indefinite integrals, techniques of integrations, definite integrals and applications of the definite integrals in geometry and physics, improper integrals and convergence tests, infinite series and convergence tests, power series and Theorem of Taylor series, software programme for calculus of single variable functions.\n",
      "2  Limit and continuity of single variable functions, the derivative and its applications, antiderivatives and indefinite integrals, techniques of integrations, definite integrals and applications of the definite integrals in geometry and physics, improper integrals and convergence tests, infinite series and convergence tests, power series and Theorem of Taylor series, software programme for calculus of single variable functions.\n",
      "                                                                                                                                                                                                                                                                                                                                                                                                                                                                                                                                desc\n",
      "0                                                                                     Limit and continuity of single variable functions, the derivative and its applications, antiderivatives and indefinite integrals, techniques of integrations, definite integrals and applications of the definite integrals in geometry and physics, improper integrals and convergence tests, infinite series and convergence tests, power series and Theorem of Taylor series, software programme for calculus of single variable functions.\n",
      "1                                                                                     Limit and continuity of single variable functions, the derivative and its applications, antiderivatives and indefinite integrals, techniques of integrations, definite integrals and applications of the definite integrals in geometry and physics, improper integrals and convergence tests, infinite series and convergence tests, power series and Theorem of Taylor series, software programme for calculus of single variable functions.\n",
      "2  Limits and continuity of single variable functions, derivatives of single variable functions and applications, antiderivatives and indefinite integrals, techniques of integrations, definite integrals and applications, improper integrals and convergence tests, infinite series and convergence tests, power series and Taylor series, software for calculus of single variable functions. Note: There is no credit for students who are currently taking or have earned credits of MA111 or MA113 or MA211 or MA216 or MA218\n",
      "                                                                                                                                                                                                                                                                                                                                                                                                                                                                                                                                                                                                                         desc\n",
      "0  BASICS OF ECOLOGY FOR ENVIRONMENT AND NATURAL RESOURCE CONSERVATION. LIFE-CYCLE ASSESSMENT. CHARACTERISATION OF POLLUTIONS AND THEIR IMPACTS ON THE SOCIETY. CONCEPTS ABOUT SUSTAINABILITY OF NATURAL RESOURCES AND ENERGY. ENVIRONMENTAL ETHICS. SUSTAINABLE DESIGN. ENERGY CONSUMPTION IN THAILAND. ENERGY CONSUMPTION IN TRANSPORTATION, INDUSTRIES, AND BUILDINGS. SUSTAINABILITY OF ENERGY FOR THAILAND. ELECTRICITY GENERATION IN THAILAND. ENERGY CONSERVATION. ALTERNATIVE ENERGY. SOLAR ENERGY. WIND ENERGY. BIOMASS FOR ENERGY. ETHANOL PRODUCTION. BIODIESEL PRODUCTION. CLEAN COAL TECHNOLOGY. NUCLEAR ENERGY.\n",
      "1  BASICS OF ECOLOGY FOR ENVIRONMENT AND NATURAL RESOURCE CONSERVATION. LIFE-CYCLE ASSESSMENT. CHARACTERISATION OF POLLUTIONS AND THEIR IMPACTS ON THE SOCIETY. CONCEPTS ABOUT SUSTAINABILITY OF NATURAL RESOURCES AND ENERGY. ENVIRONMENTAL ETHICS. SUSTAINABLE DESIGN. ENERGY CONSUMPTION IN THAILAND. ENERGY CONSUMPTION IN TRANSPORTATION, INDUSTRIES, AND BUILDINGS. SUSTAINABILITY OF ENERGY FOR THAILAND. ELECTRICITY GENERATION IN THAILAND. ENERGY CONSERVATION. ALTERNATIVE ENERGY. SOLAR ENERGY. WIND ENERGY. BIOMASS FOR ENERGY. ETHANOL PRODUCTION. BIODIESEL PRODUCTION. CLEAN COAL TECHNOLOGY. NUCLEAR ENERGY.\n",
      "2                                                                                                                                                                   BONDING IN ORGANIC MOLECULES. CLASSES AND NOMENCLATURE OF ORGANIC COMPOUNDS. CHARACTERISTIC REACTIONS OF ORGANIC COMPOUNDS. REACTION MECHANISM. STEREOCHEMISTRY. INDUCTIVE EFFECT, STERIC EFFECT, AND RESONANCE EFFECT. NUCLEOPHILIC ADDITION AND SUBSTITUTION. ELIMINATION REACTION. ELECTROPHILIC ADDITION AND SUBSTITUTION. AMINO ACIDS AND PROTEINS. SUGARS AND CARBOHYDRATES. FATS AND OILS. BUFFER SOLUTIONS. DRUG DESIGN AND DRUG DELIVERY SYSTEM.\n",
      "                                                                                                                                                                                                                                                                                                                                                                                                                                                        desc\n",
      "0                                                                                                                                                                                             FUNDAMENTAL OF CALCULATION IN ANALYTICAL CHEMISTRY. GRAVIMETRIC ANALYSIS. VOLUMETRIC ANALYSIS. TITRATIONS. FUNDAMENTAL IN PHYSICAL CHEMISTRY. FUNDAMENTAL OF THERMODYNAMICS.THERMODYNAMIC FUNCTIONS.QUANTUM CHEMISTRY. CHEMICAL EQUILIBRIUM. ELECTROCHEMISTRY.\n",
      "1                                                                                                                                                                                             FUNDAMENTAL OF CALCULATION IN ANALYTICAL CHEMISTRY. GRAVIMETRIC ANALYSIS. VOLUMETRIC ANALYSIS. TITRATIONS. FUNDAMENTAL IN PHYSICAL CHEMISTRY. FUNDAMENTAL OF THERMODYNAMICS.THERMODYNAMIC FUNCTIONS.QUANTUM CHEMISTRY. CHEMICAL EQUILIBRIUM. ELECTROCHEMISTRY.\n",
      "2  BONDING IN ORGANIC MOLECULES. CLASSES AND NOMENCLATURE OF ORGANIC COMPOUNDS. CHARACTERISTIC REACTIONS OF ORGANIC COMPOUNDS. REACTION MECHANISM. STEREOCHEMISTRY. INDUCTIVE EFFECT, STERIC EFFECT, AND RESONANCE EFFECT. NUCLEOPHILIC ADDITION AND SUBSTITUTION. ELIMINATION REACTION. ELECTROPHILIC ADDITION AND SUBSTITUTION. AMINO ACIDS AND PROTEINS. SUGARS AND CARBOHYDRATES. FATS AND OILS. BUFFER SOLUTIONS. DRUG DESIGN AND DRUG DELIVERY SYSTEM.\n",
      "                                                                                                                                                                                                                                                                                                                                                                                                                                                        desc\n",
      "0                                                                                                                                                                                             FUNDAMENTAL OF CALCULATION IN ANALYTICAL CHEMISTRY. GRAVIMETRIC ANALYSIS. VOLUMETRIC ANALYSIS. TITRATIONS. FUNDAMENTAL IN PHYSICAL CHEMISTRY. FUNDAMENTAL OF THERMODYNAMICS.THERMODYNAMIC FUNCTIONS.QUANTUM CHEMISTRY. CHEMICAL EQUILIBRIUM. ELECTROCHEMISTRY.\n",
      "1                                                                                                                                                                                             FUNDAMENTAL OF CALCULATION IN ANALYTICAL CHEMISTRY. GRAVIMETRIC ANALYSIS. VOLUMETRIC ANALYSIS. TITRATIONS. FUNDAMENTAL IN PHYSICAL CHEMISTRY. FUNDAMENTAL OF THERMODYNAMICS.THERMODYNAMIC FUNCTIONS.QUANTUM CHEMISTRY. CHEMICAL EQUILIBRIUM. ELECTROCHEMISTRY.\n",
      "2  BONDING IN ORGANIC MOLECULES. CLASSES AND NOMENCLATURE OF ORGANIC COMPOUNDS. CHARACTERISTIC REACTIONS OF ORGANIC COMPOUNDS. REACTION MECHANISM. STEREOCHEMISTRY. INDUCTIVE EFFECT, STERIC EFFECT, AND RESONANCE EFFECT. NUCLEOPHILIC ADDITION AND SUBSTITUTION. ELIMINATION REACTION. ELECTROPHILIC ADDITION AND SUBSTITUTION. AMINO ACIDS AND PROTEINS. SUGARS AND CARBOHYDRATES. FATS AND OILS. BUFFER SOLUTIONS. DRUG DESIGN AND DRUG DELIVERY SYSTEM.\n",
      "                                                                                                                                                                                                                                                                                                                                                 desc\n",
      "0                                                                                                    CHEMICAL KINETICS. PHASE EQUILIBRIA. DISTILLATION AND EXTRACTION. ADSORPTION. LATTICE. INSTRUMENTAL ANALYSIS. INORGANIC COMPOUNDS AND APPLICATIONS. TOPICS IN MATERIALS USED IN CHEMICAL ENGINEERING INDUSTRY FOR EXAMPLE SOLAR CELL, FUEL CELL.\n",
      "1                                                                                                    CHEMICAL KINETICS. PHASE EQUILIBRIA. DISTILLATION AND EXTRACTION. ADSORPTION. LATTICE. INSTRUMENTAL ANALYSIS. INORGANIC COMPOUNDS AND APPLICATIONS. TOPICS IN MATERIALS USED IN CHEMICAL ENGINEERING INDUSTRY FOR EXAMPLE SOLAR CELL, FUEL CELL.\n",
      "2  THE FIRST LAW OF THERMODYNAMICS FOR CLOSED SYSTEMS. IDEAL GAS BEHAVIOR. PROPERTIES OF PURE SUBSTANCES. EQUATION OF STATE FOR IDEAL AND REAL GASES. APPLICATIONS OF THE FIRST LAW TO OPEN SYSTEMS E.G. NOZZLE, DIFFUSER, COMPRESSOR, TURBINE, HEAT EXCHANGER. THE SECOND LAW OF THERMODYNAMICS. ENTROPY. CARNOT CYCLE. HEATING AND COOLING SYSTEMS.\n",
      "                                                                                                                                                                                                                                                                                                                                                                                                                                                                                     desc\n",
      "0  Real numbers, functions and their graphs: polynomial, rational, exponential, logarithmic, and trigonometric functions. Analytic trigonometry. Limits and continuity of functions. Derivatives. Rules of differentiation. Product and quotient rules. Higher order derivatives. Chain rule. Derivative of implicit functions. Indefinite integration and techniques of integration. Integration by substitution. Integration by parts. Applications in management, and social sciences.\n",
      "1  Real numbers, functions and their graphs: polynomial, rational, exponential, logarithmic, and trigonometric functions. Analytic trigonometry. Limits and continuity of functions. Derivatives. Rules of differentiation. Product and quotient rules. Higher order derivatives. Chain rule. Derivative of implicit functions. Indefinite integration and techniques of integration. Integration by substitution. Integration by parts. Applications in management, and social sciences.\n",
      "2                                                                                                                Fundamentals of statistics. Sampling distribution. Central Limit Theorem. Point estimation. The basic notions of statistical inference. Confidence interval estimation and tests of hypothesis. One and two sample t-tests. One-way analysis of variance. Analysis of variance. A simple regression analysis. Examples and applications in class, selected for managers.\n",
      "                                                                                                                                                                                                                                                                                                                                                                                                                                                                                                                                                                                     desc\n",
      "0  An overview of the world of business preparing students for various business-related subjects. A comprehensive introduction of in any aspects of business and the environment in which business operates. The fundamentals of business, covering functional areas of management: accounting, marketing, operations, information systems, finance, and legal studies. A study of organization and management. Evolution of thought and theory of management. Management functions: planning, organizing, directing, and controlling. Human factors in organizations. Management ethics.\n",
      "1  An overview of the world of business preparing students for various business-related subjects. A comprehensive introduction of in any aspects of business and the environment in which business operates. The fundamentals of business, covering functional areas of management: accounting, marketing, operations, information systems, finance, and legal studies. A study of organization and management. Evolution of thought and theory of management. Management functions: planning, organizing, directing, and controlling. Human factors in organizations. Management ethics.\n",
      "2                                                                                                                                                                                       Study of relationship between structures, properties, production processes and applications of main groups of engineering materials i.e. metals, polymers, ceramics and composites. Mechanical properties and materials degradation. Macroscopic mechanical behavior of engineering materials with emphasis on specific materials used in civil engineering e.g. steel, soil, concrete, and wood.\n",
      "                                                                                                                                                                                    desc\n",
      "0  State of the Arts Digital Technoloy. Digital Driving Forces. Digital Business and Society. Digital Consumers. Digital Economy. Impacts of Digital Innovation on Business and Society.\n",
      "1  State of the Arts Digital Technoloy. Digital Driving Forces. Digital Business and Society. Digital Consumers. Digital Economy. Impacts of Digital Innovation on Business and Society.\n",
      "2  State of the Arts Digital Technoloy. Digital Driving Forces. Digital Business and Society. Digital Consumers. Digital Economy. Impacts of Digital Innovation on Business and Society.\n",
      "                                                                                                                                                                                     desc\n",
      "0  State of the Arts Digital Technology. Digital Driving Forces. Digital Business and Society. Digital Consumers. Digital Economy. Impacts of Digital Innovation on Business and Society.\n",
      "1  State of the Arts Digital Technology. Digital Driving Forces. Digital Business and Society. Digital Consumers. Digital Economy. Impacts of Digital Innovation on Business and Society.\n",
      "2  State of the Arts Digital Technology. Digital Driving Forces. Digital Business and Society. Digital Consumers. Digital Economy. Impacts of Digital Innovation on Business and Society.\n",
      "                                                                                                                                                                                                                                                                                                                                                      desc\n",
      "0  Introduction to data science, importance and history of data science, the overview of knowledge integration over social science and technology and how they are related. How data science is affected us in everyday life. Steps in applying data science in real works including: Data acquisition, data preparation, data analysis and visualization.\n",
      "1  Introduction to data science, importance and history of data science, the overview of knowledge integration over social science and technology and how they are related. How data science is affected us in everyday life. Steps in applying data science in real works including: Data acquisition, data preparation, data analysis and visualization.\n",
      "2  Introduction to data science, importance and history of data science, the overview of knowledge integration over social science and technology and how they are related. How data science is affected us in everyday life. Steps in applying data science in real works including: Data acquisition, data preparation, data analysis and visualization.\n",
      "                                                                                                                                                                                                                                                                                                                                                                                                                                                                                                                                                                                                                                desc\n",
      "0  Data Science and Innovation Capability. Strategy for building innovation capacity. Barriers to innovation. Innovation Readiness. Manage Organization Change resulting from Innovation. Organization structure, cultures, and leadership for innovation. Sustaining Innovation. Fundamental concepts and analytical tools that help assess opportunities and develop entrepreneurial ventures, and how these concepts and tools may be applied to real world business situations and opportunities. Develop, define and clearly communicate a new business concept or initiative in an efficient, effective and compelling manner.\n",
      "1  Data Science and Innovation Capability. Strategy for building innovation capacity. Barriers to innovation. Innovation Readiness. Manage Organization Change resulting from Innovation. Organization structure, cultures, and leadership for innovation. Sustaining Innovation. Fundamental concepts and analytical tools that help assess opportunities and develop entrepreneurial ventures, and how these concepts and tools may be applied to real world business situations and opportunities. Develop, define and clearly communicate a new business concept or initiative in an efficient, effective and compelling manner.\n",
      "2                                                                                                                                                                                                                                                                                                                                                                                                                                       Principles of research and data collection, determination of topics; objectives; literature reviews; referencing; procedures; formats; and research report writing skills on social sciences\n",
      "                                                                                                                                                                                                                                                                              desc\n",
      "0  Concepts and strategies of social innovation in order to solve social needs; concepts of reverse innovation; concepts and theories of social entrepreneurship; case studies on the use of simple technologies in solving social issues, poverty and raising the quality of life\n",
      "1  Concepts and strategies of social innovation in order to solve social needs; concepts of reverse innovation; concepts and theories of social entrepreneurship; case studies on the use of simple technologies in solving social issues, poverty and raising the quality of life\n",
      "2  Concepts and strategies of social innovation in order to solve social needs; concepts of reverse innovation; concepts and theories of social entrepreneurship; case studies on the use of simple technologies in solving social issues, poverty and raising the quality of life\n",
      "                                                                                                                                                                                                                                                                                                                                                      desc\n",
      "0  Introduction to data science, importance and history of data science, the overview of knowledge integration over social science and technology and how they are related. How data science is affected us in everyday life. Steps in applying data science in real works including: Data acquisition, data preparation, data analysis and visualization.\n",
      "1  Introduction to data science, importance and history of data science, the overview of knowledge integration over social science and technology and how they are related. How data science is affected us in everyday life. Steps in applying data science in real works including: Data acquisition, data preparation, data analysis and visualization.\n",
      "2                                                                          Concepts and strategies of social innovation in order to solve social needs; concepts of reverse innovation; concepts and theories of social entrepreneurship; case studies on the use of simple technologies in solving social issues, poverty and raising the quality of life\n",
      "(4274, 6)\n"
     ]
    }
   ],
   "source": [
    "sheet_id = \"1ExtEUwVLi5Y_mmqxNd0oX7WrWzj8n6TeBLcQg7Xu0GU\"\n",
    "dataframe = pd.DataFrame(columns=[\"code\", \"desc\", \"add1\", \"add2\", \"add3\",\"ma\"])\n",
    "\n",
    "for sheet_name in sheet_name_lsit:\n",
    "    url = f\"https://docs.google.com/spreadsheets/d/{sheet_id}/gviz/tq?tqx=out:csv&sheet={sheet_name}\"\n",
    "    response = requests.get(url)\n",
    "    decoded_content = response.content.decode('utf-8')\n",
    "    data_tem =  pd.read_csv(StringIO(decoded_content))\n",
    "    print(data_tem[[\"desc\"]].head(3))\n",
    "    dataframe = pd.concat([dataframe, data_tem], ignore_index=True)\n",
    "\n",
    "print(dataframe.shape)"
   ]
  },
  {
   "cell_type": "code",
   "execution_count": 36,
   "metadata": {},
   "outputs": [
    {
     "data": {
      "text/html": [
       "<div>\n",
       "<style scoped>\n",
       "    .dataframe tbody tr th:only-of-type {\n",
       "        vertical-align: middle;\n",
       "    }\n",
       "\n",
       "    .dataframe tbody tr th {\n",
       "        vertical-align: top;\n",
       "    }\n",
       "\n",
       "    .dataframe thead th {\n",
       "        text-align: right;\n",
       "    }\n",
       "</style>\n",
       "<table border=\"1\" class=\"dataframe\">\n",
       "  <thead>\n",
       "    <tr style=\"text-align: right;\">\n",
       "      <th></th>\n",
       "      <th>code</th>\n",
       "      <th>desc</th>\n",
       "      <th>add1</th>\n",
       "      <th>add2</th>\n",
       "      <th>add3</th>\n",
       "      <th>ma</th>\n",
       "      <th>courseX1</th>\n",
       "      <th>courseX2</th>\n",
       "    </tr>\n",
       "  </thead>\n",
       "  <tbody>\n",
       "    <tr>\n",
       "      <th>0</th>\n",
       "      <td>AM100</td>\n",
       "      <td>Basics concepts in Applied Mathematics, Mathematical Modeling, Operations Research and Computational Mathematics</td>\n",
       "      <td>[]</td>\n",
       "      <td>[]</td>\n",
       "      <td>[]</td>\n",
       "      <td>sci</td>\n",
       "      <td>None</td>\n",
       "      <td>None</td>\n",
       "    </tr>\n",
       "    <tr>\n",
       "      <th>3</th>\n",
       "      <td>AM101</td>\n",
       "      <td>Limit and continuity of single variable functions, the derivative and its applications, antiderivatives and indefinite integrals, techniques of integrations, definite integrals and applications of the definite integrals in geometry and physics, improper integrals and convergence tests, infinite series and convergence tests, power series and Theorem of Taylor series, software programme for calculus of single variable functions.</td>\n",
       "      <td>['disciplinary course(s): ไม่นับหน่วยกิตให้ผืที่กำลังศึกษาหรือสอบได้ ค.111 หรือ ค.211 หรือ ค.216 หรือ ค.218']</td>\n",
       "      <td>['consecutive course(s): AM102, ST326']</td>\n",
       "      <td>[]</td>\n",
       "      <td>sci</td>\n",
       "      <td>[ค.111, ค.211, ค.216, ค.218]</td>\n",
       "      <td>[AM102, ST326]</td>\n",
       "    </tr>\n",
       "    <tr>\n",
       "      <th>5</th>\n",
       "      <td>AM102</td>\n",
       "      <td>Transformation of coordinate systems, polar coordinates and graphing, vectors, lines and planes in 3D- space, functions of several variables and suface plot, limits and continuity of several variables functions, partial derivatives, higher-order partial derivatives, implicit functions theorem, applications of partial derivatives in optimization, multiple integrations, differential vector calculus, introduction to line integrals and surface integrals, Gauss’s Theorem, Green’s Theorem and Stokes’ Theorem, software programme for calculus of several variable functions.</td>\n",
       "      <td>['disciplinary course(s): AM101']</td>\n",
       "      <td>['consecutive course(s): AM201, AM311, AM327, MA316, MA351, MA412, ST226, ST321, ST327']</td>\n",
       "      <td>[]</td>\n",
       "      <td>sci</td>\n",
       "      <td>[AM101]</td>\n",
       "      <td>[AM201, AM311, AM327, MA316, MA351, MA412, ST226, ST321, ST327]</td>\n",
       "    </tr>\n",
       "    <tr>\n",
       "      <th>7</th>\n",
       "      <td>AM151</td>\n",
       "      <td>Symbolic logic, methods of proof, proof of quantifier sentences, real number system, properties of real numbers, sets, properties and theorems of sets, relations, equivalence relations, partial order relations, functions, and types of functions.</td>\n",
       "      <td>['consecutive course(s): AM211, AM457, MA332, MA337, MA338, MA366, MA368']</td>\n",
       "      <td>[]</td>\n",
       "      <td>[]</td>\n",
       "      <td>sci</td>\n",
       "      <td>[AM211, AM457, MA332, MA337, MA338, MA366, MA368]</td>\n",
       "      <td>None</td>\n",
       "    </tr>\n",
       "    <tr>\n",
       "      <th>8</th>\n",
       "      <td>AM200</td>\n",
       "      <td>Logic, algebra of sets, relations and functions, recurrence relations, generating functions, basic concepts in graph theory, number representation in computer, Boolean algebra and combinatorial circuits, finite-state machines, finite automata, basic concepts in algebraic system. Note : 1. This subject is equivalent to CS 101, Discrete Structures. 2. There is no credit for students who currently taking or have earned credits of CS 101</td>\n",
       "      <td>['disciplinary course(s): 1.วิชานี้เทียบเท่า(equivalent)กับวิชา คพ.101 โครงสร้างแบบไม่ต่อเนื่อง 2.ไม่นับหน่วยกิตให้ผู้ที่กำลังศึกษา หรือสอบได้คพ.101']</td>\n",
       "      <td>['consecutive course(s): AM346, AM411, AM448, AM451, MA338, MA366, MA367']</td>\n",
       "      <td>[]</td>\n",
       "      <td>sci</td>\n",
       "      <td>[คพ.101, คพ.101]</td>\n",
       "      <td>[AM346, AM411, AM448, AM451, MA338, MA366, MA367]</td>\n",
       "    </tr>\n",
       "  </tbody>\n",
       "</table>\n",
       "</div>"
      ],
      "text/plain": [
       "    code  \\\n",
       "0  AM100   \n",
       "3  AM101   \n",
       "5  AM102   \n",
       "7  AM151   \n",
       "8  AM200   \n",
       "\n",
       "                                                                                                                                                                                                                                                                                                                                                                                                                                                                                                                                                                                          desc  \\\n",
       "0                                                                                                                                                                                                                                                                                                                                                                                                                                                                             Basics concepts in Applied Mathematics, Mathematical Modeling, Operations Research and Computational Mathematics   \n",
       "3                                                                                                                                               Limit and continuity of single variable functions, the derivative and its applications, antiderivatives and indefinite integrals, techniques of integrations, definite integrals and applications of the definite integrals in geometry and physics, improper integrals and convergence tests, infinite series and convergence tests, power series and Theorem of Taylor series, software programme for calculus of single variable functions.   \n",
       "5  Transformation of coordinate systems, polar coordinates and graphing, vectors, lines and planes in 3D- space, functions of several variables and suface plot, limits and continuity of several variables functions, partial derivatives, higher-order partial derivatives, implicit functions theorem, applications of partial derivatives in optimization, multiple integrations, differential vector calculus, introduction to line integrals and surface integrals, Gauss’s Theorem, Green’s Theorem and Stokes’ Theorem, software programme for calculus of several variable functions.   \n",
       "7                                                                                                                                                                                                                                                                                                                                        Symbolic logic, methods of proof, proof of quantifier sentences, real number system, properties of real numbers, sets, properties and theorems of sets, relations, equivalence relations, partial order relations, functions, and types of functions.   \n",
       "8                                                                                                                                        Logic, algebra of sets, relations and functions, recurrence relations, generating functions, basic concepts in graph theory, number representation in computer, Boolean algebra and combinatorial circuits, finite-state machines, finite automata, basic concepts in algebraic system. Note : 1. This subject is equivalent to CS 101, Discrete Structures. 2. There is no credit for students who currently taking or have earned credits of CS 101   \n",
       "\n",
       "                                                                                                                                                     add1  \\\n",
       "0                                                                                                                                                      []   \n",
       "3                                           ['disciplinary course(s): ไม่นับหน่วยกิตให้ผืที่กำลังศึกษาหรือสอบได้ ค.111 หรือ ค.211 หรือ ค.216 หรือ ค.218']   \n",
       "5                                                                                                                       ['disciplinary course(s): AM101']   \n",
       "7                                                                              ['consecutive course(s): AM211, AM457, MA332, MA337, MA338, MA366, MA368']   \n",
       "8  ['disciplinary course(s): 1.วิชานี้เทียบเท่า(equivalent)กับวิชา คพ.101 โครงสร้างแบบไม่ต่อเนื่อง 2.ไม่นับหน่วยกิตให้ผู้ที่กำลังศึกษา หรือสอบได้คพ.101']   \n",
       "\n",
       "                                                                                       add2  \\\n",
       "0                                                                                        []   \n",
       "3                                                   ['consecutive course(s): AM102, ST326']   \n",
       "5  ['consecutive course(s): AM201, AM311, AM327, MA316, MA351, MA412, ST226, ST321, ST327']   \n",
       "7                                                                                        []   \n",
       "8                ['consecutive course(s): AM346, AM411, AM448, AM451, MA338, MA366, MA367']   \n",
       "\n",
       "  add3   ma                                           courseX1  \\\n",
       "0   []  sci                                               None   \n",
       "3   []  sci                       [ค.111, ค.211, ค.216, ค.218]   \n",
       "5   []  sci                                            [AM101]   \n",
       "7   []  sci  [AM211, AM457, MA332, MA337, MA338, MA366, MA368]   \n",
       "8   []  sci                                   [คพ.101, คพ.101]   \n",
       "\n",
       "                                                          courseX2  \n",
       "0                                                             None  \n",
       "3                                                   [AM102, ST326]  \n",
       "5  [AM201, AM311, AM327, MA316, MA351, MA412, ST226, ST321, ST327]  \n",
       "7                                                             None  \n",
       "8                [AM346, AM411, AM448, AM451, MA338, MA366, MA367]  "
      ]
     },
     "execution_count": 36,
     "metadata": {},
     "output_type": "execute_result"
    }
   ],
   "source": [
    "dataframe.drop_duplicates(subset=[\"code\"],inplace=True)\n",
    "dataframe.dropna(subset=[\"desc\"],inplace=True)\n",
    "\n",
    "pattern = r\"[A-Za-zก-ฮ]{1,2}\\.? ?\\d{3}\"\n",
    "\n",
    "def extract_courses(row):\n",
    "    if isinstance(row, str):\n",
    "        matches = re.findall(pattern, row)  \n",
    "        return matches if matches else None  \n",
    "    return None \n",
    "\n",
    "dataframe[\"courseX1\"] = dataframe[\"add1\"].apply(extract_courses)\n",
    "dataframe[\"courseX2\"] = dataframe[\"add2\"].apply(extract_courses)\n",
    "\n",
    "dataframe.head()"
   ]
  },
  {
   "cell_type": "code",
   "execution_count": 37,
   "metadata": {},
   "outputs": [
    {
     "name": "stderr",
     "output_type": "stream",
     "text": [
      "[nltk_data] Downloading package punkt to\n",
      "[nltk_data]     C:\\Users\\LENOVO\\AppData\\Roaming\\nltk_data...\n",
      "[nltk_data]   Package punkt is already up-to-date!\n"
     ]
    },
    {
     "data": {
      "text/plain": [
       "True"
      ]
     },
     "execution_count": 37,
     "metadata": {},
     "output_type": "execute_result"
    }
   ],
   "source": [
    "import nltk\n",
    "from nltk.tokenize import word_tokenize\n",
    "nltk.download('punkt')\n"
   ]
  },
  {
   "cell_type": "code",
   "execution_count": 38,
   "metadata": {},
   "outputs": [],
   "source": [
    "\n",
    "def plot(dataframe:pd.DataFrame):\n",
    "    list = []\n",
    "    dataframe[\"desc\"].apply(lambda x: list.extend(word_tokenize(x.lower())))\n",
    "    words, counts = (list)\n",
    "    plt.figure(figsize=(10, 6))\n",
    "    plt.bar(words, counts, color='skyblue')\n",
    "    plt.title(\"Top 10 Most Frequent Words\", fontsize=16)\n",
    "    plt.xlabel(\"Words\", fontsize=14)\n",
    "    plt.ylabel(\"Frequency\", fontsize=14)\n",
    "    plt.xticks(rotation=45)\n",
    "    plt.show()\n"
   ]
  },
  {
   "cell_type": "code",
   "execution_count": 39,
   "metadata": {},
   "outputs": [],
   "source": [
    "import spacy\n",
    "nlp = spacy.load(\"en_core_web_sm\")\n",
    "punctuation_marks = [',', '.', ';','-',':',')','(']\n",
    "for mark in punctuation_marks:\n",
    "    nlp.vocab[mark].is_stop = True"
   ]
  },
  {
   "cell_type": "code",
   "execution_count": 40,
   "metadata": {},
   "outputs": [
    {
     "name": "stdout",
     "output_type": "stream",
     "text": [
      "[]\n"
     ]
    }
   ],
   "source": [
    "token_list = []\n",
    "def lower(text:str):\n",
    "    return text.lower()\n",
    "def token(row:str):\n",
    "    sentence = nlp(row)\n",
    "    tokens = [i.text for i in sentence if not i.is_stop]\n",
    "    tokens = list(map(lower, tokens))\n",
    "    token_list.extend(tokens)\n",
    "    return tokens\n",
    "\n",
    "# dataframe['desc'] = dataframe['desc'].apply(token)\n",
    "print(token_list)\n"
   ]
  },
  {
   "cell_type": "code",
   "execution_count": 41,
   "metadata": {},
   "outputs": [],
   "source": [
    "from collections import Counter\n",
    "import matplotlib.pyplot as plt"
   ]
  },
  {
   "cell_type": "code",
   "execution_count": 42,
   "metadata": {},
   "outputs": [],
   "source": [
    "# word_counts = Counter(token_list)\n",
    "# most_common = word_counts.most_common()[-1000:]\n",
    "# filtered_words = {word: count for word, count in word_counts.items() if count > 1 and count < 3}\n",
    "# most_common = sorted(filtered_words.items(), key=lambda x: x[1])[0:100]\n",
    "\n",
    "\n",
    "# words, counts = zip(*most_common)\n",
    "# plt.figure(figsize=(20, 5))\n",
    "# plt.bar(words, counts, color='skyblue')\n",
    "# plt.title(\"Top 10 Most Frequent Words\", fontsize=16)\n",
    "# plt.xlabel(\"Words\", fontsize=14)\n",
    "# plt.ylabel(\"Frequency\", fontsize=14)\n",
    "# plt.xticks(rotation=45)\n",
    "# plt.show()\n",
    "# print(words)"
   ]
  },
  {
   "cell_type": "code",
   "execution_count": 43,
   "metadata": {},
   "outputs": [],
   "source": [
    "from sklearn.feature_extraction.text import TfidfVectorizer\n"
   ]
  },
  {
   "cell_type": "code",
   "execution_count": 44,
   "metadata": {},
   "outputs": [
    {
     "ename": "KeyError",
     "evalue": "1",
     "output_type": "error",
     "traceback": [
      "\u001b[1;31m---------------------------------------------------------------------------\u001b[0m",
      "\u001b[1;31mKeyError\u001b[0m                                  Traceback (most recent call last)",
      "File \u001b[1;32m~\\AppData\\Roaming\\Python\\Python312\\site-packages\\pandas\\core\\indexes\\base.py:3805\u001b[0m, in \u001b[0;36mIndex.get_loc\u001b[1;34m(self, key)\u001b[0m\n\u001b[0;32m   3804\u001b[0m \u001b[38;5;28;01mtry\u001b[39;00m:\n\u001b[1;32m-> 3805\u001b[0m     \u001b[38;5;28;01mreturn\u001b[39;00m \u001b[38;5;28;43mself\u001b[39;49m\u001b[38;5;241;43m.\u001b[39;49m\u001b[43m_engine\u001b[49m\u001b[38;5;241;43m.\u001b[39;49m\u001b[43mget_loc\u001b[49m\u001b[43m(\u001b[49m\u001b[43mcasted_key\u001b[49m\u001b[43m)\u001b[49m\n\u001b[0;32m   3806\u001b[0m \u001b[38;5;28;01mexcept\u001b[39;00m \u001b[38;5;167;01mKeyError\u001b[39;00m \u001b[38;5;28;01mas\u001b[39;00m err:\n",
      "File \u001b[1;32mindex.pyx:167\u001b[0m, in \u001b[0;36mpandas._libs.index.IndexEngine.get_loc\u001b[1;34m()\u001b[0m\n",
      "File \u001b[1;32mindex.pyx:196\u001b[0m, in \u001b[0;36mpandas._libs.index.IndexEngine.get_loc\u001b[1;34m()\u001b[0m\n",
      "File \u001b[1;32mpandas\\\\_libs\\\\hashtable_class_helper.pxi:2606\u001b[0m, in \u001b[0;36mpandas._libs.hashtable.Int64HashTable.get_item\u001b[1;34m()\u001b[0m\n",
      "File \u001b[1;32mpandas\\\\_libs\\\\hashtable_class_helper.pxi:2630\u001b[0m, in \u001b[0;36mpandas._libs.hashtable.Int64HashTable.get_item\u001b[1;34m()\u001b[0m\n",
      "\u001b[1;31mKeyError\u001b[0m: 1",
      "\nThe above exception was the direct cause of the following exception:\n",
      "\u001b[1;31mKeyError\u001b[0m                                  Traceback (most recent call last)",
      "Cell \u001b[1;32mIn[44], line 2\u001b[0m\n\u001b[0;32m      1\u001b[0m vectorizer \u001b[38;5;241m=\u001b[39m TfidfVectorizer()\n\u001b[1;32m----> 2\u001b[0m tfidf_matrix \u001b[38;5;241m=\u001b[39m vectorizer\u001b[38;5;241m.\u001b[39mfit_transform(\u001b[43mdataframe\u001b[49m\u001b[43m[\u001b[49m\u001b[38;5;124;43m'\u001b[39;49m\u001b[38;5;124;43mdesc\u001b[39;49m\u001b[38;5;124;43m'\u001b[39;49m\u001b[43m]\u001b[49m\u001b[43m[\u001b[49m\u001b[38;5;241;43m1\u001b[39;49m\u001b[43m]\u001b[49m)\n\u001b[0;32m      3\u001b[0m tfidf_df \u001b[38;5;241m=\u001b[39m pd\u001b[38;5;241m.\u001b[39mDataFrame(tfidf_matrix\u001b[38;5;241m.\u001b[39mtoarray(), columns\u001b[38;5;241m=\u001b[39mvectorizer\u001b[38;5;241m.\u001b[39mget_feature_names_out())\n\u001b[0;32m      4\u001b[0m dataframe[\u001b[38;5;124m'\u001b[39m\u001b[38;5;124mtf\u001b[39m\u001b[38;5;124m'\u001b[39m] \u001b[38;5;241m=\u001b[39m \u001b[38;5;28mlist\u001b[39m(tfidf_df\u001b[38;5;241m.\u001b[39mvalues)\n",
      "File \u001b[1;32m~\\AppData\\Roaming\\Python\\Python312\\site-packages\\pandas\\core\\series.py:1121\u001b[0m, in \u001b[0;36mSeries.__getitem__\u001b[1;34m(self, key)\u001b[0m\n\u001b[0;32m   1118\u001b[0m     \u001b[38;5;28;01mreturn\u001b[39;00m \u001b[38;5;28mself\u001b[39m\u001b[38;5;241m.\u001b[39m_values[key]\n\u001b[0;32m   1120\u001b[0m \u001b[38;5;28;01melif\u001b[39;00m key_is_scalar:\n\u001b[1;32m-> 1121\u001b[0m     \u001b[38;5;28;01mreturn\u001b[39;00m \u001b[38;5;28;43mself\u001b[39;49m\u001b[38;5;241;43m.\u001b[39;49m\u001b[43m_get_value\u001b[49m\u001b[43m(\u001b[49m\u001b[43mkey\u001b[49m\u001b[43m)\u001b[49m\n\u001b[0;32m   1123\u001b[0m \u001b[38;5;66;03m# Convert generator to list before going through hashable part\u001b[39;00m\n\u001b[0;32m   1124\u001b[0m \u001b[38;5;66;03m# (We will iterate through the generator there to check for slices)\u001b[39;00m\n\u001b[0;32m   1125\u001b[0m \u001b[38;5;28;01mif\u001b[39;00m is_iterator(key):\n",
      "File \u001b[1;32m~\\AppData\\Roaming\\Python\\Python312\\site-packages\\pandas\\core\\series.py:1237\u001b[0m, in \u001b[0;36mSeries._get_value\u001b[1;34m(self, label, takeable)\u001b[0m\n\u001b[0;32m   1234\u001b[0m     \u001b[38;5;28;01mreturn\u001b[39;00m \u001b[38;5;28mself\u001b[39m\u001b[38;5;241m.\u001b[39m_values[label]\n\u001b[0;32m   1236\u001b[0m \u001b[38;5;66;03m# Similar to Index.get_value, but we do not fall back to positional\u001b[39;00m\n\u001b[1;32m-> 1237\u001b[0m loc \u001b[38;5;241m=\u001b[39m \u001b[38;5;28;43mself\u001b[39;49m\u001b[38;5;241;43m.\u001b[39;49m\u001b[43mindex\u001b[49m\u001b[38;5;241;43m.\u001b[39;49m\u001b[43mget_loc\u001b[49m\u001b[43m(\u001b[49m\u001b[43mlabel\u001b[49m\u001b[43m)\u001b[49m\n\u001b[0;32m   1239\u001b[0m \u001b[38;5;28;01mif\u001b[39;00m is_integer(loc):\n\u001b[0;32m   1240\u001b[0m     \u001b[38;5;28;01mreturn\u001b[39;00m \u001b[38;5;28mself\u001b[39m\u001b[38;5;241m.\u001b[39m_values[loc]\n",
      "File \u001b[1;32m~\\AppData\\Roaming\\Python\\Python312\\site-packages\\pandas\\core\\indexes\\base.py:3812\u001b[0m, in \u001b[0;36mIndex.get_loc\u001b[1;34m(self, key)\u001b[0m\n\u001b[0;32m   3807\u001b[0m     \u001b[38;5;28;01mif\u001b[39;00m \u001b[38;5;28misinstance\u001b[39m(casted_key, \u001b[38;5;28mslice\u001b[39m) \u001b[38;5;129;01mor\u001b[39;00m (\n\u001b[0;32m   3808\u001b[0m         \u001b[38;5;28misinstance\u001b[39m(casted_key, abc\u001b[38;5;241m.\u001b[39mIterable)\n\u001b[0;32m   3809\u001b[0m         \u001b[38;5;129;01mand\u001b[39;00m \u001b[38;5;28many\u001b[39m(\u001b[38;5;28misinstance\u001b[39m(x, \u001b[38;5;28mslice\u001b[39m) \u001b[38;5;28;01mfor\u001b[39;00m x \u001b[38;5;129;01min\u001b[39;00m casted_key)\n\u001b[0;32m   3810\u001b[0m     ):\n\u001b[0;32m   3811\u001b[0m         \u001b[38;5;28;01mraise\u001b[39;00m InvalidIndexError(key)\n\u001b[1;32m-> 3812\u001b[0m     \u001b[38;5;28;01mraise\u001b[39;00m \u001b[38;5;167;01mKeyError\u001b[39;00m(key) \u001b[38;5;28;01mfrom\u001b[39;00m \u001b[38;5;21;01merr\u001b[39;00m\n\u001b[0;32m   3813\u001b[0m \u001b[38;5;28;01mexcept\u001b[39;00m \u001b[38;5;167;01mTypeError\u001b[39;00m:\n\u001b[0;32m   3814\u001b[0m     \u001b[38;5;66;03m# If we have a listlike key, _check_indexing_error will raise\u001b[39;00m\n\u001b[0;32m   3815\u001b[0m     \u001b[38;5;66;03m#  InvalidIndexError. Otherwise we fall through and re-raise\u001b[39;00m\n\u001b[0;32m   3816\u001b[0m     \u001b[38;5;66;03m#  the TypeError.\u001b[39;00m\n\u001b[0;32m   3817\u001b[0m     \u001b[38;5;28mself\u001b[39m\u001b[38;5;241m.\u001b[39m_check_indexing_error(key)\n",
      "\u001b[1;31mKeyError\u001b[0m: 1"
     ]
    }
   ],
   "source": [
    "vectorizer = TfidfVectorizer()\n",
    "tfidf_matrix = vectorizer.fit_transform(dataframe['desc'][1])\n",
    "tfidf_df = pd.DataFrame(tfidf_matrix.toarray(), columns=vectorizer.get_feature_names_out())\n",
    "dataframe['tf'] = list(tfidf_df.values)\n",
    "print(df)\n"
   ]
  },
  {
   "cell_type": "code",
   "execution_count": null,
   "metadata": {},
   "outputs": [
    {
     "name": "stdout",
     "output_type": "stream",
     "text": [
      "    code  \\\n",
      "0  AM100   \n",
      "3  AM101   \n",
      "5  AM102   \n",
      "7  AM151   \n",
      "8  AM200   \n",
      "\n",
      "                                                                                                                                                                                                                                                                                                                                                                                                                                                                                                                                                  desc  \\\n",
      "0                                                                                                                                                                                                                                                                                                                                                                                                                                   [basics, concepts, applied, mathematics, mathematical, modeling, operations, research, computational, mathematics]   \n",
      "3                                                                                                                                           [limit, continuity, single, variable, functions, derivative, applications, antiderivatives, indefinite, integrals, techniques, integrations, definite, integrals, applications, definite, integrals, geometry, physics, improper, integrals, convergence, tests, infinite, series, convergence, tests, power, series, theorem, taylor, series, software, programme, calculus, single, variable, functions]   \n",
      "5  [transformation, coordinate, systems, polar, coordinates, graphing, vectors, lines, planes, 3d-, space, functions, variables, suface, plot, limits, continuity, variables, functions, partial, derivatives, higher, order, partial, derivatives, implicit, functions, theorem, applications, partial, derivatives, optimization, multiple, integrations, differential, vector, calculus, introduction, line, integrals, surface, integrals, gauss, theorem, green, theorem, stokes, ’, theorem, software, programme, calculus, variable, functions]   \n",
      "7                                                                                                                                                                                                                                                                                                        [symbolic, logic, methods, proof, proof, quantifier, sentences, real, number, system, properties, real, numbers, sets, properties, theorems, sets, relations, equivalence, relations, partial, order, relations, functions, types, functions]   \n",
      "8                                                                                                                                [logic, algebra, sets, relations, functions, recurrence, relations, generating, functions, basic, concepts, graph, theory, number, representation, computer, boolean, algebra, combinatorial, circuits, finite, state, machines, finite, automata, basic, concepts, algebraic, system, note, 1, subject, equivalent, cs, 101, discrete, structures, 2, credit, students, currently, taking, earned, credits, cs, 101]   \n",
      "\n",
      "                                                                                                                                                     add1  \\\n",
      "0                                                                                                                                                      []   \n",
      "3                                           ['disciplinary course(s): ไม่นับหน่วยกิตให้ผืที่กำลังศึกษาหรือสอบได้ ค.111 หรือ ค.211 หรือ ค.216 หรือ ค.218']   \n",
      "5                                                                                                                       ['disciplinary course(s): AM101']   \n",
      "7                                                                              ['consecutive course(s): AM211, AM457, MA332, MA337, MA338, MA366, MA368']   \n",
      "8  ['disciplinary course(s): 1.วิชานี้เทียบเท่า(equivalent)กับวิชา คพ.101 โครงสร้างแบบไม่ต่อเนื่อง 2.ไม่นับหน่วยกิตให้ผู้ที่กำลังศึกษา หรือสอบได้คพ.101']   \n",
      "\n",
      "                                                                                       add2  \\\n",
      "0                                                                                        []   \n",
      "3                                                   ['consecutive course(s): AM102, ST326']   \n",
      "5  ['consecutive course(s): AM201, AM311, AM327, MA316, MA351, MA412, ST226, ST321, ST327']   \n",
      "7                                                                                        []   \n",
      "8                ['consecutive course(s): AM346, AM411, AM448, AM451, MA338, MA366, MA367']   \n",
      "\n",
      "  add3   ma                                           courseX1  \\\n",
      "0   []  sci                                               None   \n",
      "3   []  sci                       [ค.111, ค.211, ค.216, ค.218]   \n",
      "5   []  sci                                            [AM101]   \n",
      "7   []  sci  [AM211, AM457, MA332, MA337, MA338, MA366, MA368]   \n",
      "8   []  sci                                   [คพ.101, คพ.101]   \n",
      "\n",
      "                                                          courseX2  \\\n",
      "0                                                             None   \n",
      "3                                                   [AM102, ST326]   \n",
      "5  [AM201, AM311, AM327, MA316, MA351, MA412, ST226, ST321, ST327]   \n",
      "7                                                             None   \n",
      "8                [AM346, AM411, AM448, AM451, MA338, MA366, MA367]   \n",
      "\n",
      "                                                                                                                                                                                                                                                                                                                                                                                                                                                                                                                                     Tf-idf  \n",
      "0                 [0.0, 0.0, 0.0, 0.0, 0.0, 0.0, 0.0, 0.0, 0.0, 0.0, 0.0, 0.0, 0.0, 0.0, 0.0, 0.0, 0.0, 0.0, 0.0, 0.0, 0.0, 0.0, 0.0, 0.0, 0.0, 0.0, 0.0, 0.0, 0.0, 0.0, 0.0, 0.0, 0.0, 0.0, 0.0, 0.0, 0.0, 0.0, 0.0, 0.0, 0.0, 0.0, 0.0, 0.0, 0.0, 0.0, 0.0, 0.0, 0.0, 0.0, 0.0, 0.0, 0.0, 0.0, 0.0, 0.0, 0.0, 0.0, 0.0, 0.0, 0.0, 0.0, 0.0, 0.0, 0.0, 0.0, 0.0, 0.0, 0.0, 0.0, 0.0, 0.0, 0.0, 0.0, 0.0, 0.0, 0.0, 0.0, 0.0, 0.0, 0.0, 0.0, 0.0, 0.0, 0.0, 0.0, 0.0, 0.0, 0.0, 0.0, 0.0, 0.0, 0.0, 0.0, 0.0, 0.0, 0.0, 0.0, 0.0, 0.0, ...]  \n",
      "3                 [0.0, 0.0, 0.0, 0.0, 0.0, 0.0, 0.0, 0.0, 0.0, 0.0, 0.0, 0.0, 0.0, 0.0, 0.0, 0.0, 0.0, 0.0, 0.0, 0.0, 0.0, 0.0, 0.0, 0.0, 0.0, 0.0, 0.0, 0.0, 0.0, 0.0, 0.0, 0.0, 0.0, 0.0, 0.0, 0.0, 0.0, 0.0, 0.0, 0.0, 0.0, 0.0, 0.0, 0.0, 0.0, 0.0, 0.0, 0.0, 0.0, 0.0, 0.0, 0.0, 0.0, 0.0, 0.0, 0.0, 0.0, 0.0, 0.0, 0.0, 0.0, 0.0, 0.0, 0.0, 0.0, 0.0, 0.0, 0.0, 0.0, 0.0, 0.0, 0.0, 0.0, 0.0, 0.0, 0.0, 0.0, 0.0, 0.0, 0.0, 0.0, 0.0, 0.0, 0.0, 0.0, 0.0, 0.0, 0.0, 0.0, 0.0, 0.0, 0.0, 0.0, 0.0, 0.0, 0.0, 0.0, 0.0, 0.0, 0.0, ...]  \n",
      "5                 [0.0, 0.0, 0.0, 0.0, 0.0, 0.0, 0.0, 0.0, 0.0, 0.0, 0.0, 0.0, 0.0, 0.0, 0.0, 0.0, 0.0, 0.0, 0.0, 0.0, 0.0, 0.0, 0.0, 0.0, 0.0, 0.0, 0.0, 0.0, 0.0, 0.0, 0.0, 0.0, 0.0, 0.0, 0.0, 0.0, 0.0, 0.0, 0.0, 0.0, 0.0, 0.0, 0.0, 0.0, 0.0, 0.0, 0.0, 0.0, 0.0, 0.0, 0.0, 0.0, 0.0, 0.0, 0.0, 0.0, 0.0, 0.0, 0.0, 0.0, 0.0, 0.0, 0.0, 0.0, 0.0, 0.0, 0.0, 0.0, 0.0, 0.0, 0.0, 0.0, 0.0, 0.0, 0.0, 0.0, 0.0, 0.0, 0.0, 0.0, 0.0, 0.0, 0.0, 0.0, 0.0, 0.0, 0.0, 0.0, 0.0, 0.0, 0.0, 0.0, 0.0, 0.0, 0.0, 0.0, 0.0, 0.0, 0.0, 0.0, ...]  \n",
      "7                 [0.0, 0.0, 0.0, 0.0, 0.0, 0.0, 0.0, 0.0, 0.0, 0.0, 0.0, 0.0, 0.0, 0.0, 0.0, 0.0, 0.0, 0.0, 0.0, 0.0, 0.0, 0.0, 0.0, 0.0, 0.0, 0.0, 0.0, 0.0, 0.0, 0.0, 0.0, 0.0, 0.0, 0.0, 0.0, 0.0, 0.0, 0.0, 0.0, 0.0, 0.0, 0.0, 0.0, 0.0, 0.0, 0.0, 0.0, 0.0, 0.0, 0.0, 0.0, 0.0, 0.0, 0.0, 0.0, 0.0, 0.0, 0.0, 0.0, 0.0, 0.0, 0.0, 0.0, 0.0, 0.0, 0.0, 0.0, 0.0, 0.0, 0.0, 0.0, 0.0, 0.0, 0.0, 0.0, 0.0, 0.0, 0.0, 0.0, 0.0, 0.0, 0.0, 0.0, 0.0, 0.0, 0.0, 0.0, 0.0, 0.0, 0.0, 0.0, 0.0, 0.0, 0.0, 0.0, 0.0, 0.0, 0.0, 0.0, 0.0, ...]  \n",
      "8  [0.0, 0.0, 0.0, 0.0, 0.0, 0.0, 0.0, 0.0, 0.0, 0.0, 0.0, 0.0, 0.0, 0.0, 0.0, 0.0, 0.0, 0.0, 0.0, 0.0, 0.0, 0.0, 0.0, 0.0, 0.0, 0.0, 0.0, 0.0, 0.0, 0.0, 0.0, 0.2406421922882847, 0.0, 0.0, 0.0, 0.0, 0.0, 0.0, 0.0, 0.0, 0.0, 0.0, 0.0, 0.0, 0.0, 0.0, 0.0, 0.0, 0.0, 0.0, 0.0, 0.0, 0.0, 0.0, 0.0, 0.0, 0.0, 0.0, 0.0, 0.0, 0.0, 0.0, 0.0, 0.0, 0.0, 0.0, 0.0, 0.0, 0.0, 0.0, 0.0, 0.0, 0.0, 0.0, 0.0, 0.0, 0.0, 0.0, 0.0, 0.0, 0.0, 0.0, 0.0, 0.0, 0.0, 0.0, 0.0, 0.0, 0.0, 0.0, 0.0, 0.0, 0.0, 0.0, 0.0, 0.0, 0.0, 0.0, 0.0, 0.0, ...]  \n"
     ]
    }
   ],
   "source": [
    "preprocessed_documents = [\" \".join(i) for i in dataframe['desc']]\n",
    "vectorizer = TfidfVectorizer()\n",
    "X = vectorizer.fit_transform(preprocessed_documents)\n",
    "terms = vectorizer.get_feature_names_out()\n",
    "dense_matrix = X.todense()\n",
    "tfidf_df = pd.DataFrame(dense_matrix, columns=terms)\n",
    "dataframe['Tf-idf'] = tfidf_df.apply(lambda row: row.tolist(), axis=1)\n",
    "print(dataframe.head(5))"
   ]
  },
  {
   "cell_type": "code",
   "execution_count": null,
   "metadata": {},
   "outputs": [],
   "source": []
  }
 ],
 "metadata": {
  "language_info": {
   "name": "python"
  }
 },
 "nbformat": 4,
 "nbformat_minor": 2
}
