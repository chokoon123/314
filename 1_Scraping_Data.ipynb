{
 "cells": [
  {
   "cell_type": "markdown",
   "metadata": {},
   "source": [
    "### Import Libraries"
   ]
  },
  {
   "cell_type": "code",
   "execution_count": null,
   "metadata": {},
   "outputs": [],
   "source": [
    "import re\n",
    "import time\n",
    "import pyperclip\n",
    "import pandas as pd\n",
    "from selenium import webdriver\n",
    "from selenium.webdriver.common.by import By\n",
    "from selenium.webdriver.common.keys import Keys\n",
    "from selenium.webdriver.chrome.options import Options\n",
    "from selenium.webdriver.support.ui import WebDriverWait\n",
    "from selenium.webdriver.common.action_chains import ActionChains\n",
    "from selenium.webdriver.support import expected_conditions as EC\n",
    "from selenium.common.exceptions import TimeoutException, ElementClickInterceptedException"
   ]
  },
  {
   "cell_type": "markdown",
   "metadata": {},
   "source": [
    "### Web Scraping Workflow\n",
    "We use Python and Selenium to automate the collection of data from web pages"
   ]
  },
  {
   "cell_type": "code",
   "execution_count": null,
   "metadata": {},
   "outputs": [],
   "source": [
    "chrome_options = webdriver.ChromeOptions()\n",
    "driver = webdriver.Chrome(options=chrome_options)\n",
    "actions = ActionChains(driver)\n",
    "\n",
    "list_link_sub = []\n",
    "list_codes = []\n",
    "list_desc = []\n",
    "add1 = []\n",
    "add2 = []\n",
    "add3 = []\n",
    "c_sub = 0\n",
    "page = 0\n",
    "\n",
    "# get first page\n",
    "driver.get('https://web.reg.tu.ac.th/registrar/class_info.asp?lang=en')\n",
    "web_link = \"https://web.reg.tu.ac.th/registrar/\"\n",
    "\n",
    "# remember first page\n",
    " # seach click\n",
    "time.sleep(25)\n",
    "ele = WebDriverWait(driver, 20).until(\n",
    "    EC.element_to_be_clickable((By.XPATH, \"/html/body/table/tbody/tr[1]/td[2]/table/tbody/tr[7]/td[2]/table/tbody/tr/td/font[3]/input\"))\n",
    ")\n",
    "ele.click()\n",
    "first_tab = driver.current_window_handle\n",
    "driver.maximize_window()\n",
    "while True:\n",
    "    try:\n",
    "        extracted_texts = []\n",
    "        time.sleep(1)\n",
    "\n",
    "        # Find the link each subject\n",
    "        rows = driver.find_elements(By.XPATH, \"//tr[@valign='TOP']\")\n",
    "        for row in rows:\n",
    "            c_sub += 1\n",
    "            # print(c_sub)\n",
    "            link_element = row.find_element(By.XPATH, \".//a[contains(@onclick, 'window.open')]\")\n",
    "\n",
    "            \n",
    "            onclick_attribute = link_element.get_attribute(\"onclick\")\n",
    "\n",
    "            # Use regex to extract the URL from the 'onclick' attribute\n",
    "            url_pattern = re.search(r\"window\\.open\\('([^']+)'\", onclick_attribute)\n",
    "\n",
    "            extracted_url = url_pattern.group(1)  # Extract the URL\n",
    "            pyperclip.copy(extracted_url)  # Copy the URL to the clipboard\n",
    "            extracted_texts.append(extracted_url)  # Append the URL to the list\n",
    "\n",
    "            # print(f\"Extracted URL: {extracted_url}\")\n",
    "            list_link_sub.append(extracted_url)\n",
    "\n",
    "        time.sleep(5)\n",
    "        driver.execute_script(\"window.open('');\")\n",
    "        driver.switch_to.window(driver.window_handles[1])\n",
    "\n",
    "        # loop URL to open and extract data\n",
    "        for i in extracted_texts:\n",
    "            link = web_link+i\n",
    "            driver.get(link)\n",
    "            time.sleep(3)\n",
    "            codes = driver.find_elements(By.XPATH, \"/html/body/table[1]/tbody/tr/td[2]/table/tbody/tr[1]/td[1]/b/font\")\n",
    "\n",
    "            for code in codes:\n",
    "                a = code.text\n",
    "                list_codes.append(a)\n",
    "\n",
    "            disc = driver.find_elements(By.XPATH, \"/html/body/table[2]/tbody/tr/td[2]/font[2]\")\n",
    "            for i in disc:\n",
    "                a = i.text\n",
    "                list_desc.append(a)\n",
    "\n",
    "            try:\n",
    "                add = driver.find_elements(By.XPATH, \"/html/body/table[1]/tbody/tr/td[2]/table/tbody/tr[6]\")\n",
    "                list = []\n",
    "                for i in add:\n",
    "                    a = i.text\n",
    "                    list.append(a)\n",
    "                add1.append(list)\n",
    "            except:\n",
    "                add1.append(None)\n",
    "\n",
    "            try:\n",
    "                add = driver.find_elements(By.XPATH, \"/html/body/table[1]/tbody/tr/td[2]/table/tbody/tr[7]\")\n",
    "                listt = []\n",
    "                for i in add:\n",
    "                    a = i.text\n",
    "                    listt.append(a)\n",
    "                add2.append(listt)\n",
    "            except:\n",
    "                add2.append(None)\n",
    "            \n",
    "            try:\n",
    "                add = driver.find_elements(By.XPATH, \"/html/body/table[1]/tbody/tr/td[2]/table/tbody/tr[8]\")\n",
    "                listt = []\n",
    "                for i in add:\n",
    "                    print(i.text)\n",
    "                    a = i.text\n",
    "                    listt.append(a)\n",
    "                add3.append(listt)\n",
    "            except:\n",
    "                add3.append(None)\n",
    "                        \n",
    "\n",
    "        # next page\n",
    "        driver.switch_to.window(first_tab)\n",
    "        driver.execute_script(\"window.scrollTo(0, document.body.scrollHeight);\")\n",
    "        \n",
    "        try:\n",
    "            if page == 0:\n",
    "                driver.find_element(By.XPATH, '//td[2]/font/a').click()\n",
    "                page += 1\n",
    "            else:\n",
    "                driver.find_element(By.XPATH, \"//td[2]/font/a[2]\").click()\n",
    "                page += 1\n",
    "                print(f\"Moving to page {page}\")\n",
    "        except Exception as e:\n",
    "            print(f\"Could not find 'NEXT' button: {e}\")\n",
    "            break\n",
    "            driver.quit()\n",
    "    except:\n",
    "        print(\"พัง\")\n"
   ]
  },
  {
   "cell_type": "markdown",
   "metadata": {},
   "source": [
    "### Data Processing\n",
    "The scraped data is organized into a dictionary and converted into a Pandas DataFrame"
   ]
  },
  {
   "cell_type": "code",
   "execution_count": 67,
   "metadata": {},
   "outputs": [
    {
     "data": {
      "text/html": [
       "<div>\n",
       "<style scoped>\n",
       "    .dataframe tbody tr th:only-of-type {\n",
       "        vertical-align: middle;\n",
       "    }\n",
       "\n",
       "    .dataframe tbody tr th {\n",
       "        vertical-align: top;\n",
       "    }\n",
       "\n",
       "    .dataframe thead th {\n",
       "        text-align: right;\n",
       "    }\n",
       "</style>\n",
       "<table border=\"1\" class=\"dataframe\">\n",
       "  <thead>\n",
       "    <tr style=\"text-align: right;\">\n",
       "      <th></th>\n",
       "      <th>code</th>\n",
       "      <th>desc</th>\n",
       "      <th>add1</th>\n",
       "      <th>add2</th>\n",
       "      <th>add3</th>\n",
       "    </tr>\n",
       "  </thead>\n",
       "  <tbody>\n",
       "    <tr>\n",
       "      <th>0</th>\n",
       "      <td>AM101</td>\n",
       "      <td>Limit and continuity of single variable functi...</td>\n",
       "      <td>[disciplinary course(s): ไม่นับหน่วยกิตให้ผืที...</td>\n",
       "      <td>[consecutive course(s): AM102, ST326]</td>\n",
       "      <td>[]</td>\n",
       "    </tr>\n",
       "    <tr>\n",
       "      <th>1</th>\n",
       "      <td>AM101</td>\n",
       "      <td>Limit and continuity of single variable functi...</td>\n",
       "      <td>[disciplinary course(s): ไม่นับหน่วยกิตให้ผืที...</td>\n",
       "      <td>[consecutive course(s): AM102, ST326]</td>\n",
       "      <td>[]</td>\n",
       "    </tr>\n",
       "    <tr>\n",
       "      <th>2</th>\n",
       "      <td>AM101</td>\n",
       "      <td>Limit and continuity of single variable functi...</td>\n",
       "      <td>[disciplinary course(s): ไม่นับหน่วยกิตให้ผืที...</td>\n",
       "      <td>[consecutive course(s): AM102, ST326]</td>\n",
       "      <td>[]</td>\n",
       "    </tr>\n",
       "    <tr>\n",
       "      <th>3</th>\n",
       "      <td>AM101</td>\n",
       "      <td>Limits and continuity of single variable funct...</td>\n",
       "      <td>[disciplinary course(s): หมายเหตุ : ไม่นับหน่ว...</td>\n",
       "      <td>[consecutive course(s): AM102, AM201, ST326, S...</td>\n",
       "      <td>[]</td>\n",
       "    </tr>\n",
       "    <tr>\n",
       "      <th>4</th>\n",
       "      <td>AM101</td>\n",
       "      <td>Limits and continuity of single variable funct...</td>\n",
       "      <td>[disciplinary course(s): หมายเหตุ : ไม่นับหน่ว...</td>\n",
       "      <td>[consecutive course(s): AM102, AM201, ST326, S...</td>\n",
       "      <td>[]</td>\n",
       "    </tr>\n",
       "  </tbody>\n",
       "</table>\n",
       "</div>"
      ],
      "text/plain": [
       "    code                                               desc  \\\n",
       "0  AM101  Limit and continuity of single variable functi...   \n",
       "1  AM101  Limit and continuity of single variable functi...   \n",
       "2  AM101  Limit and continuity of single variable functi...   \n",
       "3  AM101  Limits and continuity of single variable funct...   \n",
       "4  AM101  Limits and continuity of single variable funct...   \n",
       "\n",
       "                                                add1  \\\n",
       "0  [disciplinary course(s): ไม่นับหน่วยกิตให้ผืที...   \n",
       "1  [disciplinary course(s): ไม่นับหน่วยกิตให้ผืที...   \n",
       "2  [disciplinary course(s): ไม่นับหน่วยกิตให้ผืที...   \n",
       "3  [disciplinary course(s): หมายเหตุ : ไม่นับหน่ว...   \n",
       "4  [disciplinary course(s): หมายเหตุ : ไม่นับหน่ว...   \n",
       "\n",
       "                                                add2 add3  \n",
       "0              [consecutive course(s): AM102, ST326]   []  \n",
       "1              [consecutive course(s): AM102, ST326]   []  \n",
       "2              [consecutive course(s): AM102, ST326]   []  \n",
       "3  [consecutive course(s): AM102, AM201, ST326, S...   []  \n",
       "4  [consecutive course(s): AM102, AM201, ST326, S...   []  "
      ]
     },
     "execution_count": 67,
     "metadata": {},
     "output_type": "execute_result"
    }
   ],
   "source": [
    "# store data\n",
    "dict = {\"code\":list_codes,\"desc\":list_desc,\"add1\":add1,\"add2\":add2,\"add3\":add3}\n",
    "dataframe = pd.DataFrame(dict)\n",
    "dataframe.head()"
   ]
  },
  {
   "cell_type": "markdown",
   "metadata": {},
   "source": [
    "Change the datatype to ensure that it is string"
   ]
  },
  {
   "cell_type": "code",
   "execution_count": 71,
   "metadata": {},
   "outputs": [],
   "source": [
    "dataframe[[\"add1\",\"add2\",\"add3\"]] = dataframe[[\"add1\",\"add2\",\"add3\"]].astype(str) "
   ]
  },
  {
   "cell_type": "markdown",
   "metadata": {},
   "source": [
    "Use API to create Database"
   ]
  },
  {
   "cell_type": "code",
   "execution_count": 2,
   "metadata": {},
   "outputs": [],
   "source": [
    "# dsi314@dsi314.iam.gserviceaccount.com\n",
    "import gspread\n",
    "from google.oauth2.service_account import Credentials"
   ]
  },
  {
   "cell_type": "markdown",
   "metadata": {},
   "source": [
    "We use Google Sheets as the first database"
   ]
  },
  {
   "cell_type": "code",
   "execution_count": 5,
   "metadata": {},
   "outputs": [],
   "source": [
    "# api service verification\n",
    "scopes = [\n",
    "    \"https://www.googleapis.com/auth/spreadsheets\"\n",
    "]\n",
    "creds = Credentials.from_service_account_file(\"credentials.json\",scopes=scopes)\n",
    "client = gspread.authorize(creds)\n",
    "\n",
    "#ระบุไฟล์ เปิดใช้งาน\n",
    "sheet_id = \"1ExtEUwVLi5Y_mmqxNd0oX7WrWzj8n6TeBLcQg7Xu0GU\"\n",
    "workbook = client.open_by_key(sheet_id) "
   ]
  },
  {
   "cell_type": "code",
   "execution_count": 73,
   "metadata": {},
   "outputs": [
    {
     "data": {
      "text/plain": [
       "{'spreadsheetId': '1ExtEUwVLi5Y_mmqxNd0oX7WrWzj8n6TeBLcQg7Xu0GU',\n",
       " 'updatedRange': 'Sheet1!A1:E774',\n",
       " 'updatedRows': 774,\n",
       " 'updatedColumns': 5,\n",
       " 'updatedCells': 3870}"
      ]
     },
     "execution_count": 73,
     "metadata": {},
     "output_type": "execute_result"
    }
   ],
   "source": [
    "#using google sheet api\n",
    "worksheet_list = map(lambda x: x.title, workbook.worksheets())\n",
    "new_worksheet_name = \"Sheet1\"\n",
    "\n",
    "if new_worksheet_name in worksheet_list:\n",
    "    worksheet = workbook.worksheet(new_worksheet_name)\n",
    "else:\n",
    "    worksheet = workbook.add_worksheet(new_worksheet_name, rows=1000, cols=10)\n",
    "\n",
    "data = [dataframe.columns.tolist()] + dataframe.values.tolist()\n",
    "worksheet.update(data)"
   ]
  }
 ],
 "metadata": {
  "language_info": {
   "name": "python"
  }
 },
 "nbformat": 4,
 "nbformat_minor": 2
}
